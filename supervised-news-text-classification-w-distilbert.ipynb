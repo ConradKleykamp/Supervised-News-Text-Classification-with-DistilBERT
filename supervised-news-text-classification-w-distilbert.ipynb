{
 "cells": [
  {
   "cell_type": "markdown",
   "id": "31730795",
   "metadata": {
    "papermill": {
     "duration": 0.014985,
     "end_time": "2024-05-23T14:52:08.773795",
     "exception": false,
     "start_time": "2024-05-23T14:52:08.758810",
     "status": "completed"
    },
    "tags": []
   },
   "source": [
    "<a id=\"toc\"></a>\n",
    "# **Supervised News Text Classification w/ DistilBERT**\n",
    "\n",
    "Table of Contents:\n",
    "* [About the Project](#1)\n",
    "* [About the Data](#2)\n",
    "* [Set Up](#3)\n",
    "* [Data Preprocessing](#4)\n",
    "* [Building the Model](#5)\n",
    "* [Model Validation](#6)\n",
    "* [Predictions](#7)\n",
    "* [Conclusion](#c)\n",
    "* [References](#r)"
   ]
  },
  {
   "cell_type": "markdown",
   "id": "bbb2f6d2",
   "metadata": {
    "papermill": {
     "duration": 0.012402,
     "end_time": "2024-05-23T14:52:08.799530",
     "exception": false,
     "start_time": "2024-05-23T14:52:08.787128",
     "status": "completed"
    },
    "tags": []
   },
   "source": [
    "<a id=\"1\"></a>\n",
    "# **About the Project**\n",
    "\n",
    "This project has been completed as part of CU Boulder's MS-DS program for the *DTSA 5798 Supervised Text Classification for Marketing Analytics* Final Project. Overall, this project emulates a fictional contextual advertising problem, i.e. an arbitrary company wishes to identify as many news articles that mention 'health' or 'wellness' for a new media campaign. By successfully identifying relevant news articles, this company could then identify relevant URLs and then deploy their media campaign to those sites. \n",
    "\n",
    "In order to identify all news articles that mention 'health' or 'wellness', this project will be using [ktrain](https://github.com/amaiya/ktrain), which is a lightweight wrapper for TensorFlow Keras. By employing ktrain, this project will leverage a DistilBERT model for supervised text classification. [BERT](https://arxiv.org/abs/1810.04805) (Bidirectional Encoder Representations from Transformers) is a language representation model which can be used for natural language processing tasks. BERT can often be computationally expensive and thus [DistilBERT](https://arxiv.org/abs/1910.01108) will be used instead. DistilBERT retains BERT's exceptional language understanding capabilities but trades a small amount of performance for a reduction in size and increase in speed.  \n",
    "\n",
    "Overall, the model will attempt to classify whether or not a given news article (based upon its headline and short description text) falls into a 'health'/'wellness' category. The model's performance will be measured by its precision, recall, and f1-score on a validation set. These metrics will be compared to a benchmark model, created by the professor for this course. Lastly, the model will be leveraged to make predictions on novel, fictional headlines. \n",
    "\n",
    "This project was originally completed in Google Colab using the Tesla T4 GPU. In order to reduce the runtime of this notebook, I have opted to comment out the lines of code in which the standard GPU takes way too long to run. Moreover, I have also included images from my original work to show the results of these commented out lines of code. If you would like to view the full, original work, please feel free to check out my [project](https://colab.research.google.com/drive/1beGNV43zvYgbllXk_Y7lBx-BPVi5EPqH?usp=sharing) on Google Colab. Also, if you would like to fully emulate this notebook, I would recommend using an accelerator similar to Google Colab's Tesla T4 GPU. "
   ]
  },
  {
   "cell_type": "markdown",
   "id": "ca53875b",
   "metadata": {
    "papermill": {
     "duration": 0.012157,
     "end_time": "2024-05-23T14:52:08.824058",
     "exception": false,
     "start_time": "2024-05-23T14:52:08.811901",
     "status": "completed"
    },
    "tags": []
   },
   "source": [
    "<a id=\"toc\"></a>\n",
    "\n",
    "<a href=\"#toc\" style=\"background-color:blue; color:white; padding: 7px 10px; text-decoration: none; border-radius: 50px;\">Back to top</a><a id=\"toc\"></a>\n",
    "\n",
    "<a id=\"toc\"></a>\n",
    "\n",
    "<a href=\"#3\" style=\"background-color:blue; color:white; padding: 7px 10px; text-decoration: none; border-radius: 50px;\">Next Section</a><a id=\"toc\"></a>\n",
    "\n",
    "<a id=\"2\"></a>\n",
    "# **About the Data**\n",
    "\n",
    "The dataset used for this project is available on Kaggle and was uploaded by [Rishabh Misra](https://www.kaggle.com/datasets/rmisra/news-category-dataset). The dataset contains roughly 210,000 news headlines dating from 2012 to 2022. All news articles are from HuffPost. Each news article has the following attributes:\n",
    "\n",
    "- category: category in which the article was published\n",
    "- headline: headline of the news article\n",
    "- authors: list of authors who contributed to the article\n",
    "- link: link to the original news article\n",
    "- short_description: a summary of the news article\n",
    "- date: the date of the publication\n",
    "\n",
    "As mentioned above, this project aims to use supervised text classification to determine the category to which a given news article belongs. More specifically, the target categories are 'HEALTHY LIVING' and 'WELLNESS'. The dataset includes 42 unique categories. The top 5 most frequent categories and their counts are:\n",
    "\n",
    "- POLITICS: 35,602\n",
    "- WELLNESS: 17,945\n",
    "- ENTERTAINMENT: 17,362\n",
    "- TRAVEL: 9,900\n",
    "- STYLE & BEAUTY: 9,814\n",
    "\n",
    "This dataset has the following license: Attribution 4.0 International (CC BY 4.0). The dataset is open to any form of sharing and/or adaptation. "
   ]
  },
  {
   "cell_type": "markdown",
   "id": "ae3bb6e6",
   "metadata": {
    "papermill": {
     "duration": 0.012945,
     "end_time": "2024-05-23T14:52:08.849395",
     "exception": false,
     "start_time": "2024-05-23T14:52:08.836450",
     "status": "completed"
    },
    "tags": []
   },
   "source": [
    "<a id=\"toc\"></a>\n",
    "\n",
    "<a href=\"#toc\" style=\"background-color:blue; color:white; padding: 7px 10px; text-decoration: none; border-radius: 50px;\">Back to top</a><a id=\"toc\"></a>\n",
    "\n",
    "<a id=\"toc\"></a>\n",
    "\n",
    "<a href=\"#4\" style=\"background-color:blue; color:white; padding: 7px 10px; text-decoration: none; border-radius: 50px;\">Next Section</a><a id=\"toc\"></a>\n",
    "\n",
    "<a id=\"3\"></a>\n",
    "# **Set Up**"
   ]
  },
  {
   "cell_type": "code",
   "execution_count": 1,
   "id": "cebae046",
   "metadata": {
    "_kg_hide-input": true,
    "_kg_hide-output": true,
    "execution": {
     "iopub.execute_input": "2024-05-23T14:52:08.876583Z",
     "iopub.status.busy": "2024-05-23T14:52:08.875705Z",
     "iopub.status.idle": "2024-05-23T14:53:21.567599Z",
     "shell.execute_reply": "2024-05-23T14:53:21.566388Z"
    },
    "papermill": {
     "duration": 72.708501,
     "end_time": "2024-05-23T14:53:21.570276",
     "exception": false,
     "start_time": "2024-05-23T14:52:08.861775",
     "status": "completed"
    },
    "tags": []
   },
   "outputs": [
    {
     "name": "stdout",
     "output_type": "stream",
     "text": [
      "Requirement already satisfied: tf_keras in /opt/conda/lib/python3.10/site-packages (2.15.1)\r\n",
      "Collecting tf_keras\r\n",
      "  Downloading tf_keras-2.16.0-py3-none-any.whl.metadata (1.6 kB)\r\n",
      "Collecting tensorflow<2.17,>=2.16 (from tf_keras)\r\n",
      "  Downloading tensorflow-2.16.1-cp310-cp310-manylinux_2_17_x86_64.manylinux2014_x86_64.whl.metadata (4.3 kB)\r\n",
      "Requirement already satisfied: absl-py>=1.0.0 in /opt/conda/lib/python3.10/site-packages (from tensorflow<2.17,>=2.16->tf_keras) (1.4.0)\r\n",
      "Requirement already satisfied: astunparse>=1.6.0 in /opt/conda/lib/python3.10/site-packages (from tensorflow<2.17,>=2.16->tf_keras) (1.6.3)\r\n",
      "Requirement already satisfied: flatbuffers>=23.5.26 in /opt/conda/lib/python3.10/site-packages (from tensorflow<2.17,>=2.16->tf_keras) (23.5.26)\r\n",
      "Requirement already satisfied: gast!=0.5.0,!=0.5.1,!=0.5.2,>=0.2.1 in /opt/conda/lib/python3.10/site-packages (from tensorflow<2.17,>=2.16->tf_keras) (0.5.4)\r\n",
      "Requirement already satisfied: google-pasta>=0.1.1 in /opt/conda/lib/python3.10/site-packages (from tensorflow<2.17,>=2.16->tf_keras) (0.2.0)\r\n",
      "Requirement already satisfied: h5py>=3.10.0 in /opt/conda/lib/python3.10/site-packages (from tensorflow<2.17,>=2.16->tf_keras) (3.10.0)\r\n",
      "Requirement already satisfied: libclang>=13.0.0 in /opt/conda/lib/python3.10/site-packages (from tensorflow<2.17,>=2.16->tf_keras) (16.0.6)\r\n",
      "Collecting ml-dtypes~=0.3.1 (from tensorflow<2.17,>=2.16->tf_keras)\r\n",
      "  Downloading ml_dtypes-0.3.2-cp310-cp310-manylinux_2_17_x86_64.manylinux2014_x86_64.whl.metadata (20 kB)\r\n",
      "Requirement already satisfied: opt-einsum>=2.3.2 in /opt/conda/lib/python3.10/site-packages (from tensorflow<2.17,>=2.16->tf_keras) (3.3.0)\r\n",
      "Requirement already satisfied: packaging in /opt/conda/lib/python3.10/site-packages (from tensorflow<2.17,>=2.16->tf_keras) (21.3)\r\n",
      "Requirement already satisfied: protobuf!=4.21.0,!=4.21.1,!=4.21.2,!=4.21.3,!=4.21.4,!=4.21.5,<5.0.0dev,>=3.20.3 in /opt/conda/lib/python3.10/site-packages (from tensorflow<2.17,>=2.16->tf_keras) (3.20.3)\r\n",
      "Requirement already satisfied: requests<3,>=2.21.0 in /opt/conda/lib/python3.10/site-packages (from tensorflow<2.17,>=2.16->tf_keras) (2.31.0)\r\n",
      "Requirement already satisfied: setuptools in /opt/conda/lib/python3.10/site-packages (from tensorflow<2.17,>=2.16->tf_keras) (69.0.3)\r\n",
      "Requirement already satisfied: six>=1.12.0 in /opt/conda/lib/python3.10/site-packages (from tensorflow<2.17,>=2.16->tf_keras) (1.16.0)\r\n",
      "Requirement already satisfied: termcolor>=1.1.0 in /opt/conda/lib/python3.10/site-packages (from tensorflow<2.17,>=2.16->tf_keras) (2.4.0)\r\n",
      "Requirement already satisfied: typing-extensions>=3.6.6 in /opt/conda/lib/python3.10/site-packages (from tensorflow<2.17,>=2.16->tf_keras) (4.9.0)\r\n",
      "Requirement already satisfied: wrapt>=1.11.0 in /opt/conda/lib/python3.10/site-packages (from tensorflow<2.17,>=2.16->tf_keras) (1.14.1)\r\n",
      "Requirement already satisfied: grpcio<2.0,>=1.24.3 in /opt/conda/lib/python3.10/site-packages (from tensorflow<2.17,>=2.16->tf_keras) (1.51.1)\r\n",
      "Collecting tensorboard<2.17,>=2.16 (from tensorflow<2.17,>=2.16->tf_keras)\r\n",
      "  Downloading tensorboard-2.16.2-py3-none-any.whl.metadata (1.6 kB)\r\n",
      "Requirement already satisfied: keras>=3.0.0 in /opt/conda/lib/python3.10/site-packages (from tensorflow<2.17,>=2.16->tf_keras) (3.2.1)\r\n",
      "Requirement already satisfied: tensorflow-io-gcs-filesystem>=0.23.1 in /opt/conda/lib/python3.10/site-packages (from tensorflow<2.17,>=2.16->tf_keras) (0.35.0)\r\n",
      "Requirement already satisfied: numpy<2.0.0,>=1.23.5 in /opt/conda/lib/python3.10/site-packages (from tensorflow<2.17,>=2.16->tf_keras) (1.26.4)\r\n",
      "Requirement already satisfied: wheel<1.0,>=0.23.0 in /opt/conda/lib/python3.10/site-packages (from astunparse>=1.6.0->tensorflow<2.17,>=2.16->tf_keras) (0.42.0)\r\n",
      "Requirement already satisfied: rich in /opt/conda/lib/python3.10/site-packages (from keras>=3.0.0->tensorflow<2.17,>=2.16->tf_keras) (13.7.0)\r\n",
      "Requirement already satisfied: namex in /opt/conda/lib/python3.10/site-packages (from keras>=3.0.0->tensorflow<2.17,>=2.16->tf_keras) (0.0.8)\r\n",
      "Requirement already satisfied: optree in /opt/conda/lib/python3.10/site-packages (from keras>=3.0.0->tensorflow<2.17,>=2.16->tf_keras) (0.11.0)\r\n",
      "Requirement already satisfied: charset-normalizer<4,>=2 in /opt/conda/lib/python3.10/site-packages (from requests<3,>=2.21.0->tensorflow<2.17,>=2.16->tf_keras) (3.3.2)\r\n",
      "Requirement already satisfied: idna<4,>=2.5 in /opt/conda/lib/python3.10/site-packages (from requests<3,>=2.21.0->tensorflow<2.17,>=2.16->tf_keras) (3.6)\r\n",
      "Requirement already satisfied: urllib3<3,>=1.21.1 in /opt/conda/lib/python3.10/site-packages (from requests<3,>=2.21.0->tensorflow<2.17,>=2.16->tf_keras) (1.26.18)\r\n",
      "Requirement already satisfied: certifi>=2017.4.17 in /opt/conda/lib/python3.10/site-packages (from requests<3,>=2.21.0->tensorflow<2.17,>=2.16->tf_keras) (2024.2.2)\r\n",
      "Requirement already satisfied: markdown>=2.6.8 in /opt/conda/lib/python3.10/site-packages (from tensorboard<2.17,>=2.16->tensorflow<2.17,>=2.16->tf_keras) (3.5.2)\r\n",
      "Requirement already satisfied: tensorboard-data-server<0.8.0,>=0.7.0 in /opt/conda/lib/python3.10/site-packages (from tensorboard<2.17,>=2.16->tensorflow<2.17,>=2.16->tf_keras) (0.7.2)\r\n",
      "Requirement already satisfied: werkzeug>=1.0.1 in /opt/conda/lib/python3.10/site-packages (from tensorboard<2.17,>=2.16->tensorflow<2.17,>=2.16->tf_keras) (3.0.2)\r\n",
      "Requirement already satisfied: pyparsing!=3.0.5,>=2.0.2 in /opt/conda/lib/python3.10/site-packages (from packaging->tensorflow<2.17,>=2.16->tf_keras) (3.1.1)\r\n",
      "Requirement already satisfied: MarkupSafe>=2.1.1 in /opt/conda/lib/python3.10/site-packages (from werkzeug>=1.0.1->tensorboard<2.17,>=2.16->tensorflow<2.17,>=2.16->tf_keras) (2.1.3)\r\n",
      "Requirement already satisfied: markdown-it-py>=2.2.0 in /opt/conda/lib/python3.10/site-packages (from rich->keras>=3.0.0->tensorflow<2.17,>=2.16->tf_keras) (3.0.0)\r\n",
      "Requirement already satisfied: pygments<3.0.0,>=2.13.0 in /opt/conda/lib/python3.10/site-packages (from rich->keras>=3.0.0->tensorflow<2.17,>=2.16->tf_keras) (2.17.2)\r\n",
      "Requirement already satisfied: mdurl~=0.1 in /opt/conda/lib/python3.10/site-packages (from markdown-it-py>=2.2.0->rich->keras>=3.0.0->tensorflow<2.17,>=2.16->tf_keras) (0.1.2)\r\n",
      "Downloading tf_keras-2.16.0-py3-none-any.whl (1.7 MB)\r\n",
      "\u001b[2K   \u001b[90m━━━━━━━━━━━━━━━━━━━━━━━━━━━━━━━━━━━━━━━━\u001b[0m \u001b[32m1.7/1.7 MB\u001b[0m \u001b[31m55.3 MB/s\u001b[0m eta \u001b[36m0:00:00\u001b[0m\r\n",
      "\u001b[?25hDownloading tensorflow-2.16.1-cp310-cp310-manylinux_2_17_x86_64.manylinux2014_x86_64.whl (589.8 MB)\r\n",
      "\u001b[2K   \u001b[90m━━━━━━━━━━━━━━━━━━━━━━━━━━━━━━━━━━━━━━━━\u001b[0m \u001b[32m589.8/589.8 MB\u001b[0m \u001b[31m2.7 MB/s\u001b[0m eta \u001b[36m0:00:00\u001b[0m\r\n",
      "\u001b[?25hDownloading ml_dtypes-0.3.2-cp310-cp310-manylinux_2_17_x86_64.manylinux2014_x86_64.whl (2.2 MB)\r\n",
      "\u001b[2K   \u001b[90m━━━━━━━━━━━━━━━━━━━━━━━━━━━━━━━━━━━━━━━━\u001b[0m \u001b[32m2.2/2.2 MB\u001b[0m \u001b[31m65.3 MB/s\u001b[0m eta \u001b[36m0:00:00\u001b[0m\r\n",
      "\u001b[?25hDownloading tensorboard-2.16.2-py3-none-any.whl (5.5 MB)\r\n",
      "\u001b[2K   \u001b[90m━━━━━━━━━━━━━━━━━━━━━━━━━━━━━━━━━━━━━━━━\u001b[0m \u001b[32m5.5/5.5 MB\u001b[0m \u001b[31m90.4 MB/s\u001b[0m eta \u001b[36m0:00:00\u001b[0m\r\n",
      "\u001b[?25hInstalling collected packages: ml-dtypes, tensorboard, tensorflow, tf_keras\r\n",
      "  Attempting uninstall: ml-dtypes\r\n",
      "    Found existing installation: ml-dtypes 0.2.0\r\n",
      "    Uninstalling ml-dtypes-0.2.0:\r\n",
      "      Successfully uninstalled ml-dtypes-0.2.0\r\n",
      "  Attempting uninstall: tensorboard\r\n",
      "    Found existing installation: tensorboard 2.15.1\r\n",
      "    Uninstalling tensorboard-2.15.1:\r\n",
      "      Successfully uninstalled tensorboard-2.15.1\r\n",
      "  Attempting uninstall: tensorflow\r\n",
      "    Found existing installation: tensorflow 2.15.0\r\n",
      "    Uninstalling tensorflow-2.15.0:\r\n",
      "      Successfully uninstalled tensorflow-2.15.0\r\n",
      "  Attempting uninstall: tf_keras\r\n",
      "    Found existing installation: tf_keras 2.15.1\r\n",
      "    Uninstalling tf_keras-2.15.1:\r\n",
      "      Successfully uninstalled tf_keras-2.15.1\r\n",
      "\u001b[31mERROR: pip's dependency resolver does not currently take into account all the packages that are installed. This behaviour is the source of the following dependency conflicts.\r\n",
      "tensorflow-decision-forests 1.8.1 requires wurlitzer, which is not installed.\r\n",
      "tensorflow-decision-forests 1.8.1 requires tensorflow~=2.15.0, but you have tensorflow 2.16.1 which is incompatible.\r\n",
      "tensorflow-text 2.15.0 requires tensorflow<2.16,>=2.15.0; platform_machine != \"arm64\" or platform_system != \"Darwin\", but you have tensorflow 2.16.1 which is incompatible.\u001b[0m\u001b[31m\r\n",
      "\u001b[0mSuccessfully installed ml-dtypes-0.3.2 tensorboard-2.16.2 tensorflow-2.16.1 tf_keras-2.16.0\r\n"
     ]
    }
   ],
   "source": [
    "# This line of code installs the older version of keras, which is used in this project\n",
    "# This also helps ensure that the older version of TensorFlow is installed\n",
    "!pip install -U tf_keras"
   ]
  },
  {
   "cell_type": "code",
   "execution_count": 2,
   "id": "34374301",
   "metadata": {
    "_kg_hide-output": true,
    "execution": {
     "iopub.execute_input": "2024-05-23T14:53:21.647486Z",
     "iopub.status.busy": "2024-05-23T14:53:21.646949Z",
     "iopub.status.idle": "2024-05-23T14:54:17.843689Z",
     "shell.execute_reply": "2024-05-23T14:54:17.842661Z"
    },
    "papermill": {
     "duration": 56.238588,
     "end_time": "2024-05-23T14:54:17.846349",
     "exception": false,
     "start_time": "2024-05-23T14:53:21.607761",
     "status": "completed"
    },
    "tags": []
   },
   "outputs": [
    {
     "name": "stdout",
     "output_type": "stream",
     "text": [
      "Collecting ktrain\r\n",
      "  Downloading ktrain-0.41.3.tar.gz (25.3 MB)\r\n",
      "\u001b[2K     \u001b[90m━━━━━━━━━━━━━━━━━━━━━━━━━━━━━━━━━━━━━━━━\u001b[0m \u001b[32m25.3/25.3 MB\u001b[0m \u001b[31m56.3 MB/s\u001b[0m eta \u001b[36m0:00:00\u001b[0m\r\n",
      "\u001b[?25h  Preparing metadata (setup.py) ... \u001b[?25l-\b \bdone\r\n",
      "\u001b[?25hRequirement already satisfied: scikit-learn in /opt/conda/lib/python3.10/site-packages (from ktrain) (1.2.2)\r\n",
      "Requirement already satisfied: matplotlib>=3.0.0 in /opt/conda/lib/python3.10/site-packages (from ktrain) (3.7.5)\r\n",
      "Requirement already satisfied: pandas>=1.0.1 in /opt/conda/lib/python3.10/site-packages (from ktrain) (2.1.4)\r\n",
      "Requirement already satisfied: fastprogress>=0.1.21 in /opt/conda/lib/python3.10/site-packages (from ktrain) (1.0.3)\r\n",
      "Requirement already satisfied: requests in /opt/conda/lib/python3.10/site-packages (from ktrain) (2.31.0)\r\n",
      "Requirement already satisfied: joblib in /opt/conda/lib/python3.10/site-packages (from ktrain) (1.4.0)\r\n",
      "Requirement already satisfied: packaging in /opt/conda/lib/python3.10/site-packages (from ktrain) (21.3)\r\n",
      "Collecting langdetect (from ktrain)\r\n",
      "  Downloading langdetect-1.0.9.tar.gz (981 kB)\r\n",
      "\u001b[2K     \u001b[90m━━━━━━━━━━━━━━━━━━━━━━━━━━━━━━━━━━━━━━\u001b[0m \u001b[32m981.5/981.5 kB\u001b[0m \u001b[31m39.1 MB/s\u001b[0m eta \u001b[36m0:00:00\u001b[0m\r\n",
      "\u001b[?25h  Preparing metadata (setup.py) ... \u001b[?25l-\b \bdone\r\n",
      "\u001b[?25hRequirement already satisfied: jieba in /opt/conda/lib/python3.10/site-packages (from ktrain) (0.42.1)\r\n",
      "Requirement already satisfied: charset-normalizer in /opt/conda/lib/python3.10/site-packages (from ktrain) (3.3.2)\r\n",
      "Collecting chardet (from ktrain)\r\n",
      "  Downloading chardet-5.2.0-py3-none-any.whl.metadata (3.4 kB)\r\n",
      "Collecting syntok>1.3.3 (from ktrain)\r\n",
      "  Downloading syntok-1.4.4-py3-none-any.whl.metadata (10 kB)\r\n",
      "Collecting tika (from ktrain)\r\n",
      "  Downloading tika-2.6.0.tar.gz (27 kB)\r\n",
      "  Preparing metadata (setup.py) ... \u001b[?25l-\b \bdone\r\n",
      "\u001b[?25hRequirement already satisfied: transformers in /opt/conda/lib/python3.10/site-packages (from ktrain) (4.39.3)\r\n",
      "Requirement already satisfied: sentencepiece in /opt/conda/lib/python3.10/site-packages (from ktrain) (0.2.0)\r\n",
      "Collecting keras_bert>=0.86.0 (from ktrain)\r\n",
      "  Downloading keras-bert-0.89.0.tar.gz (25 kB)\r\n",
      "  Preparing metadata (setup.py) ... \u001b[?25l-\b \bdone\r\n",
      "\u001b[?25hCollecting whoosh (from ktrain)\r\n",
      "  Downloading Whoosh-2.7.4-py2.py3-none-any.whl.metadata (3.1 kB)\r\n",
      "Requirement already satisfied: numpy in /opt/conda/lib/python3.10/site-packages (from keras_bert>=0.86.0->ktrain) (1.26.4)\r\n",
      "Collecting keras-transformer==0.40.0 (from keras_bert>=0.86.0->ktrain)\r\n",
      "  Downloading keras-transformer-0.40.0.tar.gz (9.7 kB)\r\n",
      "  Preparing metadata (setup.py) ... \u001b[?25l-\b \bdone\r\n",
      "\u001b[?25hCollecting keras-pos-embd==0.13.0 (from keras-transformer==0.40.0->keras_bert>=0.86.0->ktrain)\r\n",
      "  Downloading keras-pos-embd-0.13.0.tar.gz (5.6 kB)\r\n",
      "  Preparing metadata (setup.py) ... \u001b[?25l-\b \bdone\r\n",
      "\u001b[?25hCollecting keras-multi-head==0.29.0 (from keras-transformer==0.40.0->keras_bert>=0.86.0->ktrain)\r\n",
      "  Downloading keras-multi-head-0.29.0.tar.gz (13 kB)\r\n",
      "  Preparing metadata (setup.py) ... \u001b[?25l-\b \bdone\r\n",
      "\u001b[?25hCollecting keras-layer-normalization==0.16.0 (from keras-transformer==0.40.0->keras_bert>=0.86.0->ktrain)\r\n",
      "  Downloading keras-layer-normalization-0.16.0.tar.gz (3.9 kB)\r\n",
      "  Preparing metadata (setup.py) ... \u001b[?25l-\b \bdone\r\n",
      "\u001b[?25hCollecting keras-position-wise-feed-forward==0.8.0 (from keras-transformer==0.40.0->keras_bert>=0.86.0->ktrain)\r\n",
      "  Downloading keras-position-wise-feed-forward-0.8.0.tar.gz (4.1 kB)\r\n",
      "  Preparing metadata (setup.py) ... \u001b[?25l-\b \bdone\r\n",
      "\u001b[?25hCollecting keras-embed-sim==0.10.0 (from keras-transformer==0.40.0->keras_bert>=0.86.0->ktrain)\r\n",
      "  Downloading keras-embed-sim-0.10.0.tar.gz (3.6 kB)\r\n",
      "  Preparing metadata (setup.py) ... \u001b[?25l-\b \bdone\r\n",
      "\u001b[?25hCollecting keras-self-attention==0.51.0 (from keras-multi-head==0.29.0->keras-transformer==0.40.0->keras_bert>=0.86.0->ktrain)\r\n",
      "  Downloading keras-self-attention-0.51.0.tar.gz (11 kB)\r\n",
      "  Preparing metadata (setup.py) ... \u001b[?25l-\b \bdone\r\n",
      "\u001b[?25hRequirement already satisfied: contourpy>=1.0.1 in /opt/conda/lib/python3.10/site-packages (from matplotlib>=3.0.0->ktrain) (1.2.0)\r\n",
      "Requirement already satisfied: cycler>=0.10 in /opt/conda/lib/python3.10/site-packages (from matplotlib>=3.0.0->ktrain) (0.12.1)\r\n",
      "Requirement already satisfied: fonttools>=4.22.0 in /opt/conda/lib/python3.10/site-packages (from matplotlib>=3.0.0->ktrain) (4.47.0)\r\n",
      "Requirement already satisfied: kiwisolver>=1.0.1 in /opt/conda/lib/python3.10/site-packages (from matplotlib>=3.0.0->ktrain) (1.4.5)\r\n",
      "Requirement already satisfied: pillow>=6.2.0 in /opt/conda/lib/python3.10/site-packages (from matplotlib>=3.0.0->ktrain) (9.5.0)\r\n",
      "Requirement already satisfied: pyparsing>=2.3.1 in /opt/conda/lib/python3.10/site-packages (from matplotlib>=3.0.0->ktrain) (3.1.1)\r\n",
      "Requirement already satisfied: python-dateutil>=2.7 in /opt/conda/lib/python3.10/site-packages (from matplotlib>=3.0.0->ktrain) (2.9.0.post0)\r\n",
      "Requirement already satisfied: pytz>=2020.1 in /opt/conda/lib/python3.10/site-packages (from pandas>=1.0.1->ktrain) (2023.3.post1)\r\n",
      "Requirement already satisfied: tzdata>=2022.1 in /opt/conda/lib/python3.10/site-packages (from pandas>=1.0.1->ktrain) (2023.4)\r\n",
      "Requirement already satisfied: regex>2016 in /opt/conda/lib/python3.10/site-packages (from syntok>1.3.3->ktrain) (2023.12.25)\r\n",
      "Requirement already satisfied: six in /opt/conda/lib/python3.10/site-packages (from langdetect->ktrain) (1.16.0)\r\n",
      "Requirement already satisfied: idna<4,>=2.5 in /opt/conda/lib/python3.10/site-packages (from requests->ktrain) (3.6)\r\n",
      "Requirement already satisfied: urllib3<3,>=1.21.1 in /opt/conda/lib/python3.10/site-packages (from requests->ktrain) (1.26.18)\r\n",
      "Requirement already satisfied: certifi>=2017.4.17 in /opt/conda/lib/python3.10/site-packages (from requests->ktrain) (2024.2.2)\r\n",
      "Requirement already satisfied: scipy>=1.3.2 in /opt/conda/lib/python3.10/site-packages (from scikit-learn->ktrain) (1.11.4)\r\n",
      "Requirement already satisfied: threadpoolctl>=2.0.0 in /opt/conda/lib/python3.10/site-packages (from scikit-learn->ktrain) (3.2.0)\r\n",
      "Requirement already satisfied: setuptools in /opt/conda/lib/python3.10/site-packages (from tika->ktrain) (69.0.3)\r\n",
      "Requirement already satisfied: filelock in /opt/conda/lib/python3.10/site-packages (from transformers->ktrain) (3.13.1)\r\n",
      "Requirement already satisfied: huggingface-hub<1.0,>=0.19.3 in /opt/conda/lib/python3.10/site-packages (from transformers->ktrain) (0.22.2)\r\n",
      "Requirement already satisfied: pyyaml>=5.1 in /opt/conda/lib/python3.10/site-packages (from transformers->ktrain) (6.0.1)\r\n",
      "Requirement already satisfied: tokenizers<0.19,>=0.14 in /opt/conda/lib/python3.10/site-packages (from transformers->ktrain) (0.15.2)\r\n",
      "Requirement already satisfied: safetensors>=0.4.1 in /opt/conda/lib/python3.10/site-packages (from transformers->ktrain) (0.4.3)\r\n",
      "Requirement already satisfied: tqdm>=4.27 in /opt/conda/lib/python3.10/site-packages (from transformers->ktrain) (4.66.1)\r\n",
      "Requirement already satisfied: fsspec>=2023.5.0 in /opt/conda/lib/python3.10/site-packages (from huggingface-hub<1.0,>=0.19.3->transformers->ktrain) (2024.2.0)\r\n",
      "Requirement already satisfied: typing-extensions>=3.7.4.3 in /opt/conda/lib/python3.10/site-packages (from huggingface-hub<1.0,>=0.19.3->transformers->ktrain) (4.9.0)\r\n",
      "Downloading syntok-1.4.4-py3-none-any.whl (24 kB)\r\n",
      "Downloading chardet-5.2.0-py3-none-any.whl (199 kB)\r\n",
      "\u001b[2K   \u001b[90m━━━━━━━━━━━━━━━━━━━━━━━━━━━━━━━━━━━━━━━━\u001b[0m \u001b[32m199.4/199.4 kB\u001b[0m \u001b[31m13.2 MB/s\u001b[0m eta \u001b[36m0:00:00\u001b[0m\r\n",
      "\u001b[?25hDownloading Whoosh-2.7.4-py2.py3-none-any.whl (468 kB)\r\n",
      "\u001b[2K   \u001b[90m━━━━━━━━━━━━━━━━━━━━━━━━━━━━━━━━━━━━━━━━\u001b[0m \u001b[32m468.8/468.8 kB\u001b[0m \u001b[31m27.6 MB/s\u001b[0m eta \u001b[36m0:00:00\u001b[0m\r\n",
      "\u001b[?25hBuilding wheels for collected packages: ktrain, keras_bert, keras-transformer, keras-embed-sim, keras-layer-normalization, keras-multi-head, keras-pos-embd, keras-position-wise-feed-forward, keras-self-attention, langdetect, tika\r\n",
      "  Building wheel for ktrain (setup.py) ... \u001b[?25l-\b \b\\\b \bdone\r\n",
      "\u001b[?25h  Created wheel for ktrain: filename=ktrain-0.41.3-py3-none-any.whl size=25316959 sha256=d7f476cb552ac4dce6911ddc59224c5fef6c304054c3600e2607e8cd9276a203\r\n",
      "  Stored in directory: /root/.cache/pip/wheels/fc/76/11/5b953090eebf531f660948a30cd26e70260619f6480f186a5a\r\n",
      "  Building wheel for keras_bert (setup.py) ... \u001b[?25l-\b \b\\\b \bdone\r\n",
      "\u001b[?25h  Created wheel for keras_bert: filename=keras_bert-0.89.0-py3-none-any.whl size=33499 sha256=12edc1efcf2759a488377c507708e2bbce43edd36f85e91862bc7568ea4e2139\r\n",
      "  Stored in directory: /root/.cache/pip/wheels/89/0c/04/646b6fdf6375911b42c8d540a8a3fda8d5d77634e5dcbe7b26\r\n",
      "  Building wheel for keras-transformer (setup.py) ... \u001b[?25l-\b \b\\\b \bdone\r\n",
      "\u001b[?25h  Created wheel for keras-transformer: filename=keras_transformer-0.40.0-py3-none-any.whl size=12286 sha256=7070fc93c9014471876e23f13300a06b92bcf5711bdb86e90ae7b2d1e35ac38f\r\n",
      "  Stored in directory: /root/.cache/pip/wheels/f2/cb/22/75a0ad376129177f7c95c0d91331a18f5368fd657f4035ba7c\r\n",
      "  Building wheel for keras-embed-sim (setup.py) ... \u001b[?25l-\b \b\\\b \bdone\r\n",
      "\u001b[?25h  Created wheel for keras-embed-sim: filename=keras_embed_sim-0.10.0-py3-none-any.whl size=3943 sha256=5f153052af71e674cd53b16edd234b19c90faca52d97f3ffc0eb2a833ea8130a\r\n",
      "  Stored in directory: /root/.cache/pip/wheels/82/32/c7/fd35d0d1b840a6c7cbd4343f808d10d0f7b87d271a4dbe796f\r\n",
      "  Building wheel for keras-layer-normalization (setup.py) ... \u001b[?25l-\b \b\\\b \bdone\r\n",
      "\u001b[?25h  Created wheel for keras-layer-normalization: filename=keras_layer_normalization-0.16.0-py3-none-any.whl size=4653 sha256=900f9cbc7990fd35da8178b45b95f70f2006c85bf29dad7c338cb0cbde00e112\r\n",
      "  Stored in directory: /root/.cache/pip/wheels/ed/3a/4b/21db23c0cc56c4b219616e181f258eb7c57d36cc5d056fae9a\r\n",
      "  Building wheel for keras-multi-head (setup.py) ... \u001b[?25l-\b \b\\\b \bdone\r\n",
      "\u001b[?25h  Created wheel for keras-multi-head: filename=keras_multi_head-0.29.0-py3-none-any.whl size=14975 sha256=50541914c53959c356a6be3b10a9c419e1362077be3dd46de7be37abf13d8b00\r\n",
      "  Stored in directory: /root/.cache/pip/wheels/cb/23/4b/06d7ae21714f70fcc25b48f972cc8e5e7f4b6b764a038b509d\r\n",
      "  Building wheel for keras-pos-embd (setup.py) ... \u001b[?25l-\b \b\\\b \bdone\r\n",
      "\u001b[?25h  Created wheel for keras-pos-embd: filename=keras_pos_embd-0.13.0-py3-none-any.whl size=6946 sha256=1c1b14662899185f6183a841454dd0d282046494589bebcd7ea067ffadf59120\r\n",
      "  Stored in directory: /root/.cache/pip/wheels/78/07/1b/b1ca47b6ac338554b75c8f52c54e6a2bfbe1b07d79579979a4\r\n",
      "  Building wheel for keras-position-wise-feed-forward (setup.py) ... \u001b[?25l-\b \b\\\b \bdone\r\n",
      "\u001b[?25h  Created wheel for keras-position-wise-feed-forward: filename=keras_position_wise_feed_forward-0.8.0-py3-none-any.whl size=4968 sha256=42090b1a52aa1fd54ab14f34e2f899c8678ac24bf51a39ecc46c4e10b532cd9c\r\n",
      "  Stored in directory: /root/.cache/pip/wheels/c1/6a/04/d1706a53b23b2cb5f9a0a76269bf87925daa1bca09eac01b21\r\n",
      "  Building wheel for keras-self-attention (setup.py) ... \u001b[?25l-\b \b\\\b \bdone\r\n",
      "\u001b[?25h  Created wheel for keras-self-attention: filename=keras_self_attention-0.51.0-py3-none-any.whl size=18895 sha256=38fccfe21d0f999fa3312a0dbfbb22eaea907b781cb942d473de3511d9f3d15e\r\n",
      "  Stored in directory: /root/.cache/pip/wheels/b8/f7/24/607b483144fb9c47b4ba2c5fba6b68e54aeee2d5bf6c05302e\r\n",
      "  Building wheel for langdetect (setup.py) ... \u001b[?25l-\b \bdone\r\n",
      "\u001b[?25h  Created wheel for langdetect: filename=langdetect-1.0.9-py3-none-any.whl size=993225 sha256=f827140e1850b1a7c2265fbf5773054667a68e68db054386da6fc06e6acca559\r\n",
      "  Stored in directory: /root/.cache/pip/wheels/95/03/7d/59ea870c70ce4e5a370638b5462a7711ab78fba2f655d05106\r\n",
      "  Building wheel for tika (setup.py) ... \u001b[?25l-\b \bdone\r\n",
      "\u001b[?25h  Created wheel for tika: filename=tika-2.6.0-py3-none-any.whl size=32622 sha256=ae18a8e5d9d009a05bde119c5c892fdf2ea04170f73d906d7200294171089132\r\n",
      "  Stored in directory: /root/.cache/pip/wheels/5f/71/c7/b757709531121b1700cffda5b6b0d4aad095fb507ec84316d0\r\n",
      "Successfully built ktrain keras_bert keras-transformer keras-embed-sim keras-layer-normalization keras-multi-head keras-pos-embd keras-position-wise-feed-forward keras-self-attention langdetect tika\r\n",
      "Installing collected packages: whoosh, syntok, langdetect, keras-self-attention, keras-position-wise-feed-forward, keras-pos-embd, keras-layer-normalization, keras-embed-sim, chardet, tika, keras-multi-head, keras-transformer, keras_bert, ktrain\r\n",
      "Successfully installed chardet-5.2.0 keras-embed-sim-0.10.0 keras-layer-normalization-0.16.0 keras-multi-head-0.29.0 keras-pos-embd-0.13.0 keras-position-wise-feed-forward-0.8.0 keras-self-attention-0.51.0 keras-transformer-0.40.0 keras_bert-0.89.0 ktrain-0.41.3 langdetect-1.0.9 syntok-1.4.4 tika-2.6.0 whoosh-2.7.4\r\n"
     ]
    }
   ],
   "source": [
    "# Importing necessary packages\n",
    "import os\n",
    "os.environ[\"TF_USE_LEGACY_KERAS\"] = '1'\n",
    "\n",
    "try:\n",
    "  import ktrain\n",
    "except:\n",
    "  !pip install ktrain\n",
    "  #os.kill(os.getpid(), 9)\n",
    "    \n",
    "import ktrain\n",
    "import pandas as pd\n",
    "import numpy as np"
   ]
  },
  {
   "cell_type": "code",
   "execution_count": 3,
   "id": "7259a9ed",
   "metadata": {
    "execution": {
     "iopub.execute_input": "2024-05-23T14:54:17.931648Z",
     "iopub.status.busy": "2024-05-23T14:54:17.930999Z",
     "iopub.status.idle": "2024-05-23T14:54:17.935915Z",
     "shell.execute_reply": "2024-05-23T14:54:17.934890Z"
    },
    "papermill": {
     "duration": 0.051235,
     "end_time": "2024-05-23T14:54:17.937977",
     "exception": false,
     "start_time": "2024-05-23T14:54:17.886742",
     "status": "completed"
    },
    "tags": []
   },
   "outputs": [],
   "source": [
    "# Loading from ktrain\n",
    "from ktrain import text\n",
    "from ktrain.text import texts_from_df"
   ]
  },
  {
   "cell_type": "code",
   "execution_count": 4,
   "id": "9857d86b",
   "metadata": {
    "execution": {
     "iopub.execute_input": "2024-05-23T14:54:18.025036Z",
     "iopub.status.busy": "2024-05-23T14:54:18.024702Z",
     "iopub.status.idle": "2024-05-23T14:54:20.542141Z",
     "shell.execute_reply": "2024-05-23T14:54:20.541146Z"
    },
    "papermill": {
     "duration": 2.565489,
     "end_time": "2024-05-23T14:54:20.544699",
     "exception": false,
     "start_time": "2024-05-23T14:54:17.979210",
     "status": "completed"
    },
    "tags": []
   },
   "outputs": [],
   "source": [
    "# Reading in the json file\n",
    "news = pd.read_json('/kaggle/input/news-category-dataset/News_Category_Dataset_v3.json', lines=True)"
   ]
  },
  {
   "cell_type": "code",
   "execution_count": 5,
   "id": "6841b8e2",
   "metadata": {
    "execution": {
     "iopub.execute_input": "2024-05-23T14:54:20.624025Z",
     "iopub.status.busy": "2024-05-23T14:54:20.623687Z",
     "iopub.status.idle": "2024-05-23T14:54:20.640445Z",
     "shell.execute_reply": "2024-05-23T14:54:20.639537Z"
    },
    "papermill": {
     "duration": 0.058778,
     "end_time": "2024-05-23T14:54:20.642624",
     "exception": false,
     "start_time": "2024-05-23T14:54:20.583846",
     "status": "completed"
    },
    "tags": []
   },
   "outputs": [
    {
     "data": {
      "text/html": [
       "<div>\n",
       "<style scoped>\n",
       "    .dataframe tbody tr th:only-of-type {\n",
       "        vertical-align: middle;\n",
       "    }\n",
       "\n",
       "    .dataframe tbody tr th {\n",
       "        vertical-align: top;\n",
       "    }\n",
       "\n",
       "    .dataframe thead th {\n",
       "        text-align: right;\n",
       "    }\n",
       "</style>\n",
       "<table border=\"1\" class=\"dataframe\">\n",
       "  <thead>\n",
       "    <tr style=\"text-align: right;\">\n",
       "      <th></th>\n",
       "      <th>link</th>\n",
       "      <th>headline</th>\n",
       "      <th>category</th>\n",
       "      <th>short_description</th>\n",
       "      <th>authors</th>\n",
       "      <th>date</th>\n",
       "    </tr>\n",
       "  </thead>\n",
       "  <tbody>\n",
       "    <tr>\n",
       "      <th>0</th>\n",
       "      <td>https://www.huffpost.com/entry/covid-boosters-...</td>\n",
       "      <td>Over 4 Million Americans Roll Up Sleeves For O...</td>\n",
       "      <td>U.S. NEWS</td>\n",
       "      <td>Health experts said it is too early to predict...</td>\n",
       "      <td>Carla K. Johnson, AP</td>\n",
       "      <td>2022-09-23</td>\n",
       "    </tr>\n",
       "    <tr>\n",
       "      <th>1</th>\n",
       "      <td>https://www.huffpost.com/entry/american-airlin...</td>\n",
       "      <td>American Airlines Flyer Charged, Banned For Li...</td>\n",
       "      <td>U.S. NEWS</td>\n",
       "      <td>He was subdued by passengers and crew when he ...</td>\n",
       "      <td>Mary Papenfuss</td>\n",
       "      <td>2022-09-23</td>\n",
       "    </tr>\n",
       "    <tr>\n",
       "      <th>2</th>\n",
       "      <td>https://www.huffpost.com/entry/funniest-tweets...</td>\n",
       "      <td>23 Of The Funniest Tweets About Cats And Dogs ...</td>\n",
       "      <td>COMEDY</td>\n",
       "      <td>\"Until you have a dog you don't understand wha...</td>\n",
       "      <td>Elyse Wanshel</td>\n",
       "      <td>2022-09-23</td>\n",
       "    </tr>\n",
       "    <tr>\n",
       "      <th>3</th>\n",
       "      <td>https://www.huffpost.com/entry/funniest-parent...</td>\n",
       "      <td>The Funniest Tweets From Parents This Week (Se...</td>\n",
       "      <td>PARENTING</td>\n",
       "      <td>\"Accidentally put grown-up toothpaste on my to...</td>\n",
       "      <td>Caroline Bologna</td>\n",
       "      <td>2022-09-23</td>\n",
       "    </tr>\n",
       "    <tr>\n",
       "      <th>4</th>\n",
       "      <td>https://www.huffpost.com/entry/amy-cooper-lose...</td>\n",
       "      <td>Woman Who Called Cops On Black Bird-Watcher Lo...</td>\n",
       "      <td>U.S. NEWS</td>\n",
       "      <td>Amy Cooper accused investment firm Franklin Te...</td>\n",
       "      <td>Nina Golgowski</td>\n",
       "      <td>2022-09-22</td>\n",
       "    </tr>\n",
       "  </tbody>\n",
       "</table>\n",
       "</div>"
      ],
      "text/plain": [
       "                                                link  \\\n",
       "0  https://www.huffpost.com/entry/covid-boosters-...   \n",
       "1  https://www.huffpost.com/entry/american-airlin...   \n",
       "2  https://www.huffpost.com/entry/funniest-tweets...   \n",
       "3  https://www.huffpost.com/entry/funniest-parent...   \n",
       "4  https://www.huffpost.com/entry/amy-cooper-lose...   \n",
       "\n",
       "                                            headline   category  \\\n",
       "0  Over 4 Million Americans Roll Up Sleeves For O...  U.S. NEWS   \n",
       "1  American Airlines Flyer Charged, Banned For Li...  U.S. NEWS   \n",
       "2  23 Of The Funniest Tweets About Cats And Dogs ...     COMEDY   \n",
       "3  The Funniest Tweets From Parents This Week (Se...  PARENTING   \n",
       "4  Woman Who Called Cops On Black Bird-Watcher Lo...  U.S. NEWS   \n",
       "\n",
       "                                   short_description               authors  \\\n",
       "0  Health experts said it is too early to predict...  Carla K. Johnson, AP   \n",
       "1  He was subdued by passengers and crew when he ...        Mary Papenfuss   \n",
       "2  \"Until you have a dog you don't understand wha...         Elyse Wanshel   \n",
       "3  \"Accidentally put grown-up toothpaste on my to...      Caroline Bologna   \n",
       "4  Amy Cooper accused investment firm Franklin Te...        Nina Golgowski   \n",
       "\n",
       "        date  \n",
       "0 2022-09-23  \n",
       "1 2022-09-23  \n",
       "2 2022-09-23  \n",
       "3 2022-09-23  \n",
       "4 2022-09-22  "
      ]
     },
     "execution_count": 5,
     "metadata": {},
     "output_type": "execute_result"
    }
   ],
   "source": [
    "# Getting a quick look at the 'news' dataset\n",
    "news.head()"
   ]
  },
  {
   "cell_type": "markdown",
   "id": "59de0225",
   "metadata": {
    "papermill": {
     "duration": 0.038246,
     "end_time": "2024-05-23T14:54:20.720315",
     "exception": false,
     "start_time": "2024-05-23T14:54:20.682069",
     "status": "completed"
    },
    "tags": []
   },
   "source": [
    "Above, we can confirm the overall structure and attributes of the dataset. Here, we can see the six attributes: link, headline, category, short_description, authors, and date."
   ]
  },
  {
   "cell_type": "code",
   "execution_count": 6,
   "id": "b94ac60c",
   "metadata": {
    "execution": {
     "iopub.execute_input": "2024-05-23T14:54:20.800631Z",
     "iopub.status.busy": "2024-05-23T14:54:20.800242Z",
     "iopub.status.idle": "2024-05-23T14:54:20.945536Z",
     "shell.execute_reply": "2024-05-23T14:54:20.944179Z"
    },
    "papermill": {
     "duration": 0.188264,
     "end_time": "2024-05-23T14:54:20.947714",
     "exception": false,
     "start_time": "2024-05-23T14:54:20.759450",
     "status": "completed"
    },
    "tags": []
   },
   "outputs": [
    {
     "name": "stdout",
     "output_type": "stream",
     "text": [
      "<class 'pandas.core.frame.DataFrame'>\n",
      "RangeIndex: 209527 entries, 0 to 209526\n",
      "Data columns (total 6 columns):\n",
      " #   Column             Non-Null Count   Dtype         \n",
      "---  ------             --------------   -----         \n",
      " 0   link               209527 non-null  object        \n",
      " 1   headline           209527 non-null  object        \n",
      " 2   category           209527 non-null  object        \n",
      " 3   short_description  209527 non-null  object        \n",
      " 4   authors            209527 non-null  object        \n",
      " 5   date               209527 non-null  datetime64[ns]\n",
      "dtypes: datetime64[ns](1), object(5)\n",
      "memory usage: 9.6+ MB\n"
     ]
    }
   ],
   "source": [
    "# Getting more basic information about the 'news' dataset\n",
    "news.info()"
   ]
  },
  {
   "cell_type": "markdown",
   "id": "befab084",
   "metadata": {
    "papermill": {
     "duration": 0.040037,
     "end_time": "2024-05-23T14:54:21.029181",
     "exception": false,
     "start_time": "2024-05-23T14:54:20.989144",
     "status": "completed"
    },
    "tags": []
   },
   "source": [
    "Above is more basic information about the dataset. Here, we can see that there are 209,527 entries of data. Furthermore, each column includes the same number of populated rows. Due to the fact that this dataset has already been cleaned, we know that there are no null values to worry about. "
   ]
  },
  {
   "cell_type": "markdown",
   "id": "f877ed4d",
   "metadata": {
    "papermill": {
     "duration": 0.040907,
     "end_time": "2024-05-23T14:54:21.156037",
     "exception": false,
     "start_time": "2024-05-23T14:54:21.115130",
     "status": "completed"
    },
    "tags": []
   },
   "source": [
    "<a id=\"toc\"></a>\n",
    "\n",
    "<a href=\"#toc\" style=\"background-color:blue; color:white; padding: 7px 10px; text-decoration: none; border-radius: 50px;\">Back to top</a><a id=\"toc\"></a>\n",
    "\n",
    "<a id=\"toc\"></a>\n",
    "\n",
    "<a href=\"#5\" style=\"background-color:blue; color:white; padding: 7px 10px; text-decoration: none; border-radius: 50px;\">Next Section</a><a id=\"toc\"></a>\n",
    "\n",
    "<a id=\"4\"></a>\n",
    "# **Data Preprocessing**"
   ]
  },
  {
   "cell_type": "code",
   "execution_count": 7,
   "id": "cc730512",
   "metadata": {
    "execution": {
     "iopub.execute_input": "2024-05-23T14:54:21.237479Z",
     "iopub.status.busy": "2024-05-23T14:54:21.237099Z",
     "iopub.status.idle": "2024-05-23T14:54:21.332476Z",
     "shell.execute_reply": "2024-05-23T14:54:21.331486Z"
    },
    "papermill": {
     "duration": 0.139171,
     "end_time": "2024-05-23T14:54:21.334895",
     "exception": false,
     "start_time": "2024-05-23T14:54:21.195724",
     "status": "completed"
    },
    "tags": []
   },
   "outputs": [],
   "source": [
    "# Creating a new column ('combined_text') from 'headline' and 'short_description' columns\n",
    "news['combined_text'] = news['headline'] + ' ' + news['short_description']"
   ]
  },
  {
   "cell_type": "markdown",
   "id": "ea6e247d",
   "metadata": {
    "papermill": {
     "duration": 0.039836,
     "end_time": "2024-05-23T14:54:21.414974",
     "exception": false,
     "start_time": "2024-05-23T14:54:21.375138",
     "status": "completed"
    },
    "tags": []
   },
   "source": [
    "In the code line above, we have created a new column, 'combined_text'. This column essentially combines the string text from both the existing 'headline' and 'short_description' columns. This preprocessing step is essential for the model, as it will allow the model to focus solely on the new 'combined_text' column in order to classify its category. "
   ]
  },
  {
   "cell_type": "code",
   "execution_count": 8,
   "id": "610386f6",
   "metadata": {
    "execution": {
     "iopub.execute_input": "2024-05-23T14:54:21.498234Z",
     "iopub.status.busy": "2024-05-23T14:54:21.497286Z",
     "iopub.status.idle": "2024-05-23T14:54:21.751729Z",
     "shell.execute_reply": "2024-05-23T14:54:21.750661Z"
    },
    "papermill": {
     "duration": 0.299539,
     "end_time": "2024-05-23T14:54:21.754800",
     "exception": false,
     "start_time": "2024-05-23T14:54:21.455261",
     "status": "completed"
    },
    "tags": []
   },
   "outputs": [
    {
     "data": {
      "text/html": [
       "<div>\n",
       "<style scoped>\n",
       "    .dataframe tbody tr th:only-of-type {\n",
       "        vertical-align: middle;\n",
       "    }\n",
       "\n",
       "    .dataframe tbody tr th {\n",
       "        vertical-align: top;\n",
       "    }\n",
       "\n",
       "    .dataframe thead th {\n",
       "        text-align: right;\n",
       "    }\n",
       "</style>\n",
       "<table border=\"1\" class=\"dataframe\">\n",
       "  <thead>\n",
       "    <tr style=\"text-align: right;\">\n",
       "      <th></th>\n",
       "      <th>link</th>\n",
       "      <th>headline</th>\n",
       "      <th>category</th>\n",
       "      <th>short_description</th>\n",
       "      <th>authors</th>\n",
       "      <th>date</th>\n",
       "      <th>combined_text</th>\n",
       "    </tr>\n",
       "  </thead>\n",
       "  <tbody>\n",
       "    <tr>\n",
       "      <th>134</th>\n",
       "      <td>https://www.huffpost.com/entry/signs-of-teeth-...</td>\n",
       "      <td>6 Signs You’re Grinding Your Teeth At Night (A...</td>\n",
       "      <td>WELLNESS</td>\n",
       "      <td>Beyond toothaches, there are other common red ...</td>\n",
       "      <td>Jillian Wilson</td>\n",
       "      <td>2022-08-30</td>\n",
       "      <td>6 Signs You’re Grinding Your Teeth At Night (A...</td>\n",
       "    </tr>\n",
       "    <tr>\n",
       "      <th>195</th>\n",
       "      <td>https://www.huffpost.com/entry/chest-pain-hear...</td>\n",
       "      <td>How To Tell If Your Chest Pain Is A Heart Problem</td>\n",
       "      <td>WELLNESS</td>\n",
       "      <td>Concerned your chest pain might be heart-relat...</td>\n",
       "      <td>Ashley Broadwater</td>\n",
       "      <td>2022-08-19</td>\n",
       "      <td>How To Tell If Your Chest Pain Is A Heart Prob...</td>\n",
       "    </tr>\n",
       "    <tr>\n",
       "      <th>278</th>\n",
       "      <td>https://www.huffpost.com/entry/fertility-treat...</td>\n",
       "      <td>Fertility Treatment Puts Many Families In Debt...</td>\n",
       "      <td>WELLNESS</td>\n",
       "      <td>Experts share their advice for easing the fina...</td>\n",
       "      <td>Caroline Bologna</td>\n",
       "      <td>2022-08-05</td>\n",
       "      <td>Fertility Treatment Puts Many Families In Debt...</td>\n",
       "    </tr>\n",
       "    <tr>\n",
       "      <th>299</th>\n",
       "      <td>https://www.huffpost.com/entry/micro-transiton...</td>\n",
       "      <td>4 'Micro-Transitions' In Your Day That May Be ...</td>\n",
       "      <td>WELLNESS</td>\n",
       "      <td>Certain points during your day can spark stres...</td>\n",
       "      <td>Alexandra Frost</td>\n",
       "      <td>2022-08-01</td>\n",
       "      <td>4 'Micro-Transitions' In Your Day That May Be ...</td>\n",
       "    </tr>\n",
       "    <tr>\n",
       "      <th>322</th>\n",
       "      <td>https://www.huffpost.com/entry/can-i-let-cat-o...</td>\n",
       "      <td>Should I Take My Cat Out In This Heat?</td>\n",
       "      <td>WELLNESS</td>\n",
       "      <td>Certain temperatures are too dangerous for pet...</td>\n",
       "      <td>Caroline Bologna</td>\n",
       "      <td>2022-07-27</td>\n",
       "      <td>Should I Take My Cat Out In This Heat? Certain...</td>\n",
       "    </tr>\n",
       "    <tr>\n",
       "      <th>...</th>\n",
       "      <td>...</td>\n",
       "      <td>...</td>\n",
       "      <td>...</td>\n",
       "      <td>...</td>\n",
       "      <td>...</td>\n",
       "      <td>...</td>\n",
       "      <td>...</td>\n",
       "    </tr>\n",
       "    <tr>\n",
       "      <th>209471</th>\n",
       "      <td>https://www.huffingtonpost.com/entry/shovel-sn...</td>\n",
       "      <td>Shoveling Snow? How to Protect Your Back (And ...</td>\n",
       "      <td>WELLNESS</td>\n",
       "      <td>Work up to it. Warm up inside, and incorporate...</td>\n",
       "      <td></td>\n",
       "      <td>2012-01-28</td>\n",
       "      <td>Shoveling Snow? How to Protect Your Back (And ...</td>\n",
       "    </tr>\n",
       "    <tr>\n",
       "      <th>209473</th>\n",
       "      <td>https://www.huffingtonpost.com/entry/overtime-...</td>\n",
       "      <td>7 Reasons Working Too Much Is Bad For Your Health</td>\n",
       "      <td>WELLNESS</td>\n",
       "      <td>If you're the last one to leave the office, or...</td>\n",
       "      <td>Sarah Klein</td>\n",
       "      <td>2012-01-28</td>\n",
       "      <td>7 Reasons Working Too Much Is Bad For Your Hea...</td>\n",
       "    </tr>\n",
       "    <tr>\n",
       "      <th>209474</th>\n",
       "      <td>https://www.huffingtonpost.comhttp://www.oprah...</td>\n",
       "      <td>The Sleep Library: 11 Soothing Books For Bedtime</td>\n",
       "      <td>WELLNESS</td>\n",
       "      <td>Do you toss and turn until you finally sit up ...</td>\n",
       "      <td></td>\n",
       "      <td>2012-01-28</td>\n",
       "      <td>The Sleep Library: 11 Soothing Books For Bedti...</td>\n",
       "    </tr>\n",
       "    <tr>\n",
       "      <th>209476</th>\n",
       "      <td>https://www.huffingtonpost.com/entry/pets-seni...</td>\n",
       "      <td>The Benefits of Caring for a Pet</td>\n",
       "      <td>WELLNESS</td>\n",
       "      <td>For the young as well as the old, especially i...</td>\n",
       "      <td>Rita Altman, R.N., Contributor\\nSenior Vice Pr...</td>\n",
       "      <td>2012-01-28</td>\n",
       "      <td>The Benefits of Caring for a Pet For the young...</td>\n",
       "    </tr>\n",
       "    <tr>\n",
       "      <th>209479</th>\n",
       "      <td>https://www.huffingtonpost.com/entry/life-tips...</td>\n",
       "      <td>This Is Only the Beginning: Surprising Advice ...</td>\n",
       "      <td>WELLNESS</td>\n",
       "      <td>My great-aunt Ida loves to say, \"This is only ...</td>\n",
       "      <td>Ellie Knaus, Contributor\\nAtomic Moms Podcast ...</td>\n",
       "      <td>2012-01-28</td>\n",
       "      <td>This Is Only the Beginning: Surprising Advice ...</td>\n",
       "    </tr>\n",
       "  </tbody>\n",
       "</table>\n",
       "<p>24639 rows × 7 columns</p>\n",
       "</div>"
      ],
      "text/plain": [
       "                                                     link  \\\n",
       "134     https://www.huffpost.com/entry/signs-of-teeth-...   \n",
       "195     https://www.huffpost.com/entry/chest-pain-hear...   \n",
       "278     https://www.huffpost.com/entry/fertility-treat...   \n",
       "299     https://www.huffpost.com/entry/micro-transiton...   \n",
       "322     https://www.huffpost.com/entry/can-i-let-cat-o...   \n",
       "...                                                   ...   \n",
       "209471  https://www.huffingtonpost.com/entry/shovel-sn...   \n",
       "209473  https://www.huffingtonpost.com/entry/overtime-...   \n",
       "209474  https://www.huffingtonpost.comhttp://www.oprah...   \n",
       "209476  https://www.huffingtonpost.com/entry/pets-seni...   \n",
       "209479  https://www.huffingtonpost.com/entry/life-tips...   \n",
       "\n",
       "                                                 headline  category  \\\n",
       "134     6 Signs You’re Grinding Your Teeth At Night (A...  WELLNESS   \n",
       "195     How To Tell If Your Chest Pain Is A Heart Problem  WELLNESS   \n",
       "278     Fertility Treatment Puts Many Families In Debt...  WELLNESS   \n",
       "299     4 'Micro-Transitions' In Your Day That May Be ...  WELLNESS   \n",
       "322                Should I Take My Cat Out In This Heat?  WELLNESS   \n",
       "...                                                   ...       ...   \n",
       "209471  Shoveling Snow? How to Protect Your Back (And ...  WELLNESS   \n",
       "209473  7 Reasons Working Too Much Is Bad For Your Health  WELLNESS   \n",
       "209474   The Sleep Library: 11 Soothing Books For Bedtime  WELLNESS   \n",
       "209476                   The Benefits of Caring for a Pet  WELLNESS   \n",
       "209479  This Is Only the Beginning: Surprising Advice ...  WELLNESS   \n",
       "\n",
       "                                        short_description  \\\n",
       "134     Beyond toothaches, there are other common red ...   \n",
       "195     Concerned your chest pain might be heart-relat...   \n",
       "278     Experts share their advice for easing the fina...   \n",
       "299     Certain points during your day can spark stres...   \n",
       "322     Certain temperatures are too dangerous for pet...   \n",
       "...                                                   ...   \n",
       "209471  Work up to it. Warm up inside, and incorporate...   \n",
       "209473  If you're the last one to leave the office, or...   \n",
       "209474  Do you toss and turn until you finally sit up ...   \n",
       "209476  For the young as well as the old, especially i...   \n",
       "209479  My great-aunt Ida loves to say, \"This is only ...   \n",
       "\n",
       "                                                  authors       date  \\\n",
       "134                                        Jillian Wilson 2022-08-30   \n",
       "195                                     Ashley Broadwater 2022-08-19   \n",
       "278                                      Caroline Bologna 2022-08-05   \n",
       "299                                       Alexandra Frost 2022-08-01   \n",
       "322                                      Caroline Bologna 2022-07-27   \n",
       "...                                                   ...        ...   \n",
       "209471                                                    2012-01-28   \n",
       "209473                                        Sarah Klein 2012-01-28   \n",
       "209474                                                    2012-01-28   \n",
       "209476  Rita Altman, R.N., Contributor\\nSenior Vice Pr... 2012-01-28   \n",
       "209479  Ellie Knaus, Contributor\\nAtomic Moms Podcast ... 2012-01-28   \n",
       "\n",
       "                                            combined_text  \n",
       "134     6 Signs You’re Grinding Your Teeth At Night (A...  \n",
       "195     How To Tell If Your Chest Pain Is A Heart Prob...  \n",
       "278     Fertility Treatment Puts Many Families In Debt...  \n",
       "299     4 'Micro-Transitions' In Your Day That May Be ...  \n",
       "322     Should I Take My Cat Out In This Heat? Certain...  \n",
       "...                                                   ...  \n",
       "209471  Shoveling Snow? How to Protect Your Back (And ...  \n",
       "209473  7 Reasons Working Too Much Is Bad For Your Hea...  \n",
       "209474  The Sleep Library: 11 Soothing Books For Bedti...  \n",
       "209476  The Benefits of Caring for a Pet For the young...  \n",
       "209479  This Is Only the Beginning: Surprising Advice ...  \n",
       "\n",
       "[24639 rows x 7 columns]"
      ]
     },
     "execution_count": 8,
     "metadata": {},
     "output_type": "execute_result"
    }
   ],
   "source": [
    "# Seeing how many news articles have the categories 'WELLNESS' or 'HEALTHY LIVING'\n",
    "news[news['category'].str.contains('HEALTHY LIVING') | news['category'].str.contains('WELLNESS')]"
   ]
  },
  {
   "cell_type": "markdown",
   "id": "74cac899",
   "metadata": {
    "papermill": {
     "duration": 0.045928,
     "end_time": "2024-05-23T14:54:21.847486",
     "exception": false,
     "start_time": "2024-05-23T14:54:21.801558",
     "status": "completed"
    },
    "tags": []
   },
   "source": [
    "Above, we can see how many news articles contain the category 'WELLNESS' or 'HEALTHY LIVING'. As mentioned earlier, the purpose of this project is to classify whether or not a given news article falls into either one of these categories based upon its headline and short description text. Here, we can see that there are 24,639 news articles that fall into either the 'WELLNESS' category or the 'HEALTHY LIVING' category. "
   ]
  },
  {
   "cell_type": "code",
   "execution_count": 9,
   "id": "7c8b02b4",
   "metadata": {
    "execution": {
     "iopub.execute_input": "2024-05-23T14:54:21.929063Z",
     "iopub.status.busy": "2024-05-23T14:54:21.928714Z",
     "iopub.status.idle": "2024-05-23T14:54:22.011968Z",
     "shell.execute_reply": "2024-05-23T14:54:22.011135Z"
    },
    "papermill": {
     "duration": 0.126081,
     "end_time": "2024-05-23T14:54:22.014160",
     "exception": false,
     "start_time": "2024-05-23T14:54:21.888079",
     "status": "completed"
    },
    "tags": []
   },
   "outputs": [],
   "source": [
    "# Creating a new column ('healthy')\n",
    "news['healthy'] = np.where((news['category'] == 'WELLNESS') | (news['category'] == 'HEALTHY LIVING'), 1, 0)"
   ]
  },
  {
   "cell_type": "markdown",
   "id": "c89e0025",
   "metadata": {
    "papermill": {
     "duration": 0.040782,
     "end_time": "2024-05-23T14:54:22.095904",
     "exception": false,
     "start_time": "2024-05-23T14:54:22.055122",
     "status": "completed"
    },
    "tags": []
   },
   "source": [
    "The codeline above creates a new column, 'healthy', which yields a 1 for all news articles that have the category 'WELLNESS' or 'HEALTHY LIVING'. All news articles that do not fall into either of these categories will have a 0 in the 'healthy' column. This column is essential for the model, as it will provide the necessary labels for supervised learning, i.e. 1 = positive case, 0 = negative case.  "
   ]
  },
  {
   "cell_type": "code",
   "execution_count": 10,
   "id": "7c50452f",
   "metadata": {
    "execution": {
     "iopub.execute_input": "2024-05-23T14:54:22.179827Z",
     "iopub.status.busy": "2024-05-23T14:54:22.179461Z",
     "iopub.status.idle": "2024-05-23T14:54:22.195773Z",
     "shell.execute_reply": "2024-05-23T14:54:22.194895Z"
    },
    "papermill": {
     "duration": 0.061187,
     "end_time": "2024-05-23T14:54:22.197808",
     "exception": false,
     "start_time": "2024-05-23T14:54:22.136621",
     "status": "completed"
    },
    "tags": []
   },
   "outputs": [
    {
     "data": {
      "text/plain": [
       "count    209527.000000\n",
       "mean          0.117593\n",
       "std           0.322127\n",
       "min           0.000000\n",
       "25%           0.000000\n",
       "50%           0.000000\n",
       "75%           0.000000\n",
       "max           1.000000\n",
       "Name: healthy, dtype: float64"
      ]
     },
     "execution_count": 10,
     "metadata": {},
     "output_type": "execute_result"
    }
   ],
   "source": [
    "# Viewing basic statistical information of new 'healthy' column\n",
    "news['healthy'].describe()"
   ]
  },
  {
   "cell_type": "markdown",
   "id": "db1369c6",
   "metadata": {
    "papermill": {
     "duration": 0.038833,
     "end_time": "2024-05-23T14:54:22.278236",
     "exception": false,
     "start_time": "2024-05-23T14:54:22.239403",
     "status": "completed"
    },
    "tags": []
   },
   "source": [
    "Above, we can again see the total number of news articles in the dataset, i.e. 209,527. The mean value shows us the portion of news articles that satisfy the 'healthy' condition (having the category 'WELLNESS' or 'HEALTHY LIVING'. Simple math (below) confirms the number of 'healthy' news articles: 24,639. This is the same exact value that yielded above when viewing all the news articles that fall into either 'WELLNESS' or 'HEALTHY LIVING'. Because of this, we can be sure that the new column 'healthy' has correctly labeled all 'healthy' news articles with a 1. \n",
    "\n",
    "However, it is clear that the two classes (1 & 0) are imbalanced, as only ~12% of the news articles are positive cases. This imbalance could lead to the model overpredicting on the negative cases. Due to this, it is necessary to create a balanced sample of the data (below). "
   ]
  },
  {
   "cell_type": "code",
   "execution_count": 11,
   "id": "f889bf43",
   "metadata": {
    "execution": {
     "iopub.execute_input": "2024-05-23T14:54:22.359843Z",
     "iopub.status.busy": "2024-05-23T14:54:22.359244Z",
     "iopub.status.idle": "2024-05-23T14:54:22.364960Z",
     "shell.execute_reply": "2024-05-23T14:54:22.364135Z"
    },
    "papermill": {
     "duration": 0.048443,
     "end_time": "2024-05-23T14:54:22.366864",
     "exception": false,
     "start_time": "2024-05-23T14:54:22.318421",
     "status": "completed"
    },
    "tags": []
   },
   "outputs": [
    {
     "data": {
      "text/plain": [
       "24638.908511"
      ]
     },
     "execution_count": 11,
     "metadata": {},
     "output_type": "execute_result"
    }
   ],
   "source": [
    "# Confirming number of 'healthy' news articles\n",
    "209527 * 0.117593"
   ]
  },
  {
   "cell_type": "code",
   "execution_count": 12,
   "id": "d726f59c",
   "metadata": {
    "execution": {
     "iopub.execute_input": "2024-05-23T14:54:22.448925Z",
     "iopub.status.busy": "2024-05-23T14:54:22.448100Z",
     "iopub.status.idle": "2024-05-23T14:54:22.529807Z",
     "shell.execute_reply": "2024-05-23T14:54:22.528758Z"
    },
    "papermill": {
     "duration": 0.126523,
     "end_time": "2024-05-23T14:54:22.532341",
     "exception": false,
     "start_time": "2024-05-23T14:54:22.405818",
     "status": "completed"
    },
    "tags": []
   },
   "outputs": [],
   "source": [
    "# Creating 24,639 samples of 'healthy' and 'not_healthy' entries\n",
    "sample_size = 24639\n",
    "healthy = news[news['healthy']==1]\n",
    "not_healthy = news[news['healthy']==0].sample(n=sample_size)"
   ]
  },
  {
   "cell_type": "markdown",
   "id": "b172c9cf",
   "metadata": {
    "papermill": {
     "duration": 0.042971,
     "end_time": "2024-05-23T14:54:22.616603",
     "exception": false,
     "start_time": "2024-05-23T14:54:22.573632",
     "status": "completed"
    },
    "tags": []
   },
   "source": [
    "The code chunk above takes all entries of data where 'healthy' equals 1 (positive case). Again, this value is 24,639. To balance the two classes, the code chunk takes a sample of an equal number of negative cases from the original dataset. "
   ]
  },
  {
   "cell_type": "code",
   "execution_count": 13,
   "id": "e7be69f3",
   "metadata": {
    "execution": {
     "iopub.execute_input": "2024-05-23T14:54:22.699513Z",
     "iopub.status.busy": "2024-05-23T14:54:22.699149Z",
     "iopub.status.idle": "2024-05-23T14:54:22.711347Z",
     "shell.execute_reply": "2024-05-23T14:54:22.710647Z"
    },
    "papermill": {
     "duration": 0.054794,
     "end_time": "2024-05-23T14:54:22.713280",
     "exception": false,
     "start_time": "2024-05-23T14:54:22.658486",
     "status": "completed"
    },
    "tags": []
   },
   "outputs": [],
   "source": [
    "# Concatenating the 'healthy' and 'not_healthy' entries into a sample dataset\n",
    "news_sample = pd.concat([healthy, not_healthy])"
   ]
  },
  {
   "cell_type": "markdown",
   "id": "ca4cf500",
   "metadata": {
    "papermill": {
     "duration": 0.039093,
     "end_time": "2024-05-23T14:54:22.793277",
     "exception": false,
     "start_time": "2024-05-23T14:54:22.754184",
     "status": "completed"
    },
    "tags": []
   },
   "source": [
    "The code line above concatenates the two samples to create a new sample dataset called 'news_sample'. This dataset will be used to train the model. "
   ]
  },
  {
   "cell_type": "code",
   "execution_count": 14,
   "id": "f3741269",
   "metadata": {
    "execution": {
     "iopub.execute_input": "2024-05-23T14:54:22.873484Z",
     "iopub.status.busy": "2024-05-23T14:54:22.873148Z",
     "iopub.status.idle": "2024-05-23T14:54:22.890579Z",
     "shell.execute_reply": "2024-05-23T14:54:22.889598Z"
    },
    "papermill": {
     "duration": 0.059952,
     "end_time": "2024-05-23T14:54:22.892530",
     "exception": false,
     "start_time": "2024-05-23T14:54:22.832578",
     "status": "completed"
    },
    "tags": []
   },
   "outputs": [
    {
     "data": {
      "text/html": [
       "<div>\n",
       "<style scoped>\n",
       "    .dataframe tbody tr th:only-of-type {\n",
       "        vertical-align: middle;\n",
       "    }\n",
       "\n",
       "    .dataframe tbody tr th {\n",
       "        vertical-align: top;\n",
       "    }\n",
       "\n",
       "    .dataframe thead th {\n",
       "        text-align: right;\n",
       "    }\n",
       "</style>\n",
       "<table border=\"1\" class=\"dataframe\">\n",
       "  <thead>\n",
       "    <tr style=\"text-align: right;\">\n",
       "      <th></th>\n",
       "      <th>date</th>\n",
       "      <th>healthy</th>\n",
       "    </tr>\n",
       "  </thead>\n",
       "  <tbody>\n",
       "    <tr>\n",
       "      <th>count</th>\n",
       "      <td>49278</td>\n",
       "      <td>49278.000000</td>\n",
       "    </tr>\n",
       "    <tr>\n",
       "      <th>mean</th>\n",
       "      <td>2014-09-26 00:13:03.733106176</td>\n",
       "      <td>0.500000</td>\n",
       "    </tr>\n",
       "    <tr>\n",
       "      <th>min</th>\n",
       "      <td>2012-01-28 00:00:00</td>\n",
       "      <td>0.000000</td>\n",
       "    </tr>\n",
       "    <tr>\n",
       "      <th>25%</th>\n",
       "      <td>2013-03-01 00:00:00</td>\n",
       "      <td>0.000000</td>\n",
       "    </tr>\n",
       "    <tr>\n",
       "      <th>50%</th>\n",
       "      <td>2014-03-23 00:00:00</td>\n",
       "      <td>0.500000</td>\n",
       "    </tr>\n",
       "    <tr>\n",
       "      <th>75%</th>\n",
       "      <td>2016-02-17 00:00:00</td>\n",
       "      <td>1.000000</td>\n",
       "    </tr>\n",
       "    <tr>\n",
       "      <th>max</th>\n",
       "      <td>2022-09-22 00:00:00</td>\n",
       "      <td>1.000000</td>\n",
       "    </tr>\n",
       "    <tr>\n",
       "      <th>std</th>\n",
       "      <td>NaN</td>\n",
       "      <td>0.500005</td>\n",
       "    </tr>\n",
       "  </tbody>\n",
       "</table>\n",
       "</div>"
      ],
      "text/plain": [
       "                                date       healthy\n",
       "count                          49278  49278.000000\n",
       "mean   2014-09-26 00:13:03.733106176      0.500000\n",
       "min              2012-01-28 00:00:00      0.000000\n",
       "25%              2013-03-01 00:00:00      0.000000\n",
       "50%              2014-03-23 00:00:00      0.500000\n",
       "75%              2016-02-17 00:00:00      1.000000\n",
       "max              2022-09-22 00:00:00      1.000000\n",
       "std                              NaN      0.500005"
      ]
     },
     "execution_count": 14,
     "metadata": {},
     "output_type": "execute_result"
    }
   ],
   "source": [
    "# Viewing the distribution of the sample dataset\n",
    "news_sample.describe()"
   ]
  },
  {
   "cell_type": "markdown",
   "id": "1853a373",
   "metadata": {
    "papermill": {
     "duration": 0.04109,
     "end_time": "2024-05-23T14:54:22.973929",
     "exception": false,
     "start_time": "2024-05-23T14:54:22.932839",
     "status": "completed"
    },
    "tags": []
   },
   "source": [
    "Above, we can see the entry count of the 'news_sample' dataset. This dataset has 49,278 entries of data. The mean value of 0.5 tells us that half of the entries fall under the positive class ('healthy'/1) and half of the entries fall under the negative class ('not_healthy/0). By creating this sample dataset, we have balanced the two classes!"
   ]
  },
  {
   "cell_type": "markdown",
   "id": "59a8fb36",
   "metadata": {
    "papermill": {
     "duration": 0.039146,
     "end_time": "2024-05-23T14:54:23.052557",
     "exception": false,
     "start_time": "2024-05-23T14:54:23.013411",
     "status": "completed"
    },
    "tags": []
   },
   "source": [
    "<a id=\"toc\"></a>\n",
    "\n",
    "<a href=\"#toc\" style=\"background-color:blue; color:white; padding: 7px 10px; text-decoration: none; border-radius: 50px;\">Back to top</a><a id=\"toc\"></a>\n",
    "\n",
    "<a id=\"toc\"></a>\n",
    "\n",
    "<a href=\"#6\" style=\"background-color:blue; color:white; padding: 7px 10px; text-decoration: none; border-radius: 50px;\">Next Section</a><a id=\"toc\"></a>\n",
    "\n",
    "<a id=\"5\"></a>\n",
    "# **Building the Model**"
   ]
  },
  {
   "cell_type": "code",
   "execution_count": 15,
   "id": "54d3b495",
   "metadata": {
    "execution": {
     "iopub.execute_input": "2024-05-23T14:54:23.133593Z",
     "iopub.status.busy": "2024-05-23T14:54:23.133240Z",
     "iopub.status.idle": "2024-05-23T14:54:23.137735Z",
     "shell.execute_reply": "2024-05-23T14:54:23.136771Z"
    },
    "papermill": {
     "duration": 0.047845,
     "end_time": "2024-05-23T14:54:23.139790",
     "exception": false,
     "start_time": "2024-05-23T14:54:23.091945",
     "status": "completed"
    },
    "tags": []
   },
   "outputs": [],
   "source": [
    "# Setting target names\n",
    "target_names = ['NOT HEALTHY', 'HEALTHY']"
   ]
  },
  {
   "cell_type": "code",
   "execution_count": 16,
   "id": "bc3894f3",
   "metadata": {
    "execution": {
     "iopub.execute_input": "2024-05-23T14:54:23.225059Z",
     "iopub.status.busy": "2024-05-23T14:54:23.224730Z",
     "iopub.status.idle": "2024-05-23T14:54:51.946794Z",
     "shell.execute_reply": "2024-05-23T14:54:51.945942Z"
    },
    "papermill": {
     "duration": 28.766717,
     "end_time": "2024-05-23T14:54:51.949194",
     "exception": false,
     "start_time": "2024-05-23T14:54:23.182477",
     "status": "completed"
    },
    "tags": []
   },
   "outputs": [
    {
     "name": "stdout",
     "output_type": "stream",
     "text": [
      "['not_healthy', 'healthy']\n",
      "        not_healthy  healthy\n",
      "182930          0.0      1.0\n",
      "169452          0.0      1.0\n",
      "176879          0.0      1.0\n",
      "46741           1.0      0.0\n",
      "129296          1.0      0.0\n",
      "['not_healthy', 'healthy']\n",
      "        not_healthy  healthy\n",
      "63665           1.0      0.0\n",
      "138515          0.0      1.0\n",
      "111821          1.0      0.0\n",
      "135075          0.0      1.0\n",
      "126073          1.0      0.0\n"
     ]
    },
    {
     "data": {
      "application/vnd.jupyter.widget-view+json": {
       "model_id": "efb905cdcbff4ee582650364f37870b6",
       "version_major": 2,
       "version_minor": 0
      },
      "text/plain": [
       "config.json:   0%|          | 0.00/483 [00:00<?, ?B/s]"
      ]
     },
     "metadata": {},
     "output_type": "display_data"
    },
    {
     "data": {
      "application/vnd.jupyter.widget-view+json": {
       "model_id": "41c635e561964ec9bfc4b41bf0f86c61",
       "version_major": 2,
       "version_minor": 0
      },
      "text/plain": [
       "model.safetensors:   0%|          | 0.00/268M [00:00<?, ?B/s]"
      ]
     },
     "metadata": {},
     "output_type": "display_data"
    },
    {
     "name": "stdout",
     "output_type": "stream",
     "text": [
      "preprocessing train...\n",
      "language: en\n",
      "train sequence lengths:\n",
      "\tmean : 32\n",
      "\t95percentile : 58\n",
      "\t99percentile : 68\n"
     ]
    },
    {
     "data": {
      "application/vnd.jupyter.widget-view+json": {
       "model_id": "857c56c7993549e2967b9aa2d2098ae3",
       "version_major": 2,
       "version_minor": 0
      },
      "text/plain": [
       "tokenizer_config.json:   0%|          | 0.00/48.0 [00:00<?, ?B/s]"
      ]
     },
     "metadata": {},
     "output_type": "display_data"
    },
    {
     "data": {
      "application/vnd.jupyter.widget-view+json": {
       "model_id": "2174069071904412b3fe740f7a30c163",
       "version_major": 2,
       "version_minor": 0
      },
      "text/plain": [
       "vocab.txt:   0%|          | 0.00/232k [00:00<?, ?B/s]"
      ]
     },
     "metadata": {},
     "output_type": "display_data"
    },
    {
     "data": {
      "application/vnd.jupyter.widget-view+json": {
       "model_id": "a4d60294aa554f79abe9616829873686",
       "version_major": 2,
       "version_minor": 0
      },
      "text/plain": [
       "tokenizer.json:   0%|          | 0.00/466k [00:00<?, ?B/s]"
      ]
     },
     "metadata": {},
     "output_type": "display_data"
    },
    {
     "data": {
      "text/html": [
       "\n",
       "<style>\n",
       "    /* Turns off some styling */\n",
       "    progress {\n",
       "        /* gets rid of default border in Firefox and Opera. */\n",
       "        border: none;\n",
       "        /* Needs to be in here for Safari polyfill so background images work as expected. */\n",
       "        background-size: auto;\n",
       "    }\n",
       "    progress:not([value]), progress:not([value])::-webkit-progress-bar {\n",
       "        background: repeating-linear-gradient(45deg, #7e7e7e, #7e7e7e 10px, #5c5c5c 10px, #5c5c5c 20px);\n",
       "    }\n",
       "    .progress-bar-interrupted, .progress-bar-interrupted::-webkit-progress-bar {\n",
       "        background: #F44336;\n",
       "    }\n",
       "</style>\n"
      ],
      "text/plain": [
       "<IPython.core.display.HTML object>"
      ]
     },
     "metadata": {},
     "output_type": "display_data"
    },
    {
     "data": {
      "text/html": [],
      "text/plain": [
       "<IPython.core.display.HTML object>"
      ]
     },
     "metadata": {},
     "output_type": "display_data"
    },
    {
     "name": "stdout",
     "output_type": "stream",
     "text": [
      "Is Multi-Label? False\n",
      "preprocessing test...\n",
      "language: en\n",
      "test sequence lengths:\n",
      "\tmean : 32\n",
      "\t95percentile : 58\n",
      "\t99percentile : 69\n"
     ]
    },
    {
     "data": {
      "text/html": [
       "\n",
       "<style>\n",
       "    /* Turns off some styling */\n",
       "    progress {\n",
       "        /* gets rid of default border in Firefox and Opera. */\n",
       "        border: none;\n",
       "        /* Needs to be in here for Safari polyfill so background images work as expected. */\n",
       "        background-size: auto;\n",
       "    }\n",
       "    progress:not([value]), progress:not([value])::-webkit-progress-bar {\n",
       "        background: repeating-linear-gradient(45deg, #7e7e7e, #7e7e7e 10px, #5c5c5c 10px, #5c5c5c 20px);\n",
       "    }\n",
       "    .progress-bar-interrupted, .progress-bar-interrupted::-webkit-progress-bar {\n",
       "        background: #F44336;\n",
       "    }\n",
       "</style>\n"
      ],
      "text/plain": [
       "<IPython.core.display.HTML object>"
      ]
     },
     "metadata": {},
     "output_type": "display_data"
    },
    {
     "data": {
      "text/html": [],
      "text/plain": [
       "<IPython.core.display.HTML object>"
      ]
     },
     "metadata": {},
     "output_type": "display_data"
    }
   ],
   "source": [
    "# Setting the parameters for the model\n",
    "train, val, preprocess = texts_from_df(news_sample, 'combined_text', \n",
    "                                       label_columns = ['healthy'], \n",
    "                                       val_df = None,\n",
    "                                       max_features = 20000, \n",
    "                                       maxlen = 128, \n",
    "                                       val_pct = 0.1, \n",
    "                                       ngram_range = 1, \n",
    "                                       preprocess_mode = 'distilbert')"
   ]
  },
  {
   "cell_type": "code",
   "execution_count": 17,
   "id": "967c3d2a",
   "metadata": {
    "execution": {
     "iopub.execute_input": "2024-05-23T14:54:52.034761Z",
     "iopub.status.busy": "2024-05-23T14:54:52.034439Z",
     "iopub.status.idle": "2024-05-23T14:54:53.388465Z",
     "shell.execute_reply": "2024-05-23T14:54:53.387619Z"
    },
    "papermill": {
     "duration": 1.39879,
     "end_time": "2024-05-23T14:54:53.390843",
     "exception": false,
     "start_time": "2024-05-23T14:54:51.992053",
     "status": "completed"
    },
    "tags": []
   },
   "outputs": [
    {
     "name": "stdout",
     "output_type": "stream",
     "text": [
      "Is Multi-Label? False\n",
      "maxlen is 128\n",
      "done.\n"
     ]
    }
   ],
   "source": [
    "# Creating model and learner\n",
    "model = ktrain.text.text_classifier('distilbert', train_data=train, preproc=preprocess)\n",
    "learner = ktrain.get_learner(model, train_data=train, val_data=val, batch_size = 8)"
   ]
  },
  {
   "cell_type": "code",
   "execution_count": 18,
   "id": "2e192011",
   "metadata": {
    "execution": {
     "iopub.execute_input": "2024-05-23T14:54:53.476993Z",
     "iopub.status.busy": "2024-05-23T14:54:53.476692Z",
     "iopub.status.idle": "2024-05-23T14:54:53.480345Z",
     "shell.execute_reply": "2024-05-23T14:54:53.479489Z"
    },
    "papermill": {
     "duration": 0.048385,
     "end_time": "2024-05-23T14:54:53.482193",
     "exception": false,
     "start_time": "2024-05-23T14:54:53.433808",
     "status": "completed"
    },
    "tags": []
   },
   "outputs": [],
   "source": [
    "# Using learner.lr_find to optimize the learning rate\n",
    "#learner.lr_find(max_epochs=6)"
   ]
  },
  {
   "attachments": {
    "e21c0563-bc78-459f-b8d9-ae2710e4c599.png": {
     "image/png": "[encoded data removed]"
    }
   },
   "cell_type": "markdown",
   "id": "da49eeb3",
   "metadata": {
    "papermill": {
     "duration": 0.040984,
     "end_time": "2024-05-23T14:54:53.565004",
     "exception": false,
     "start_time": "2024-05-23T14:54:53.524020",
     "status": "completed"
    },
    "tags": []
   },
   "source": [
    "![Screen Shot 2024-05-23 at 10.10.22 AM.png](attachment:e21c0563-bc78-459f-b8d9-ae2710e4c599.png)"
   ]
  },
  {
   "cell_type": "markdown",
   "id": "a22d5647",
   "metadata": {
    "papermill": {
     "duration": 0.042612,
     "end_time": "2024-05-23T14:54:53.651234",
     "exception": false,
     "start_time": "2024-05-23T14:54:53.608622",
     "status": "completed"
    },
    "tags": []
   },
   "source": [
    "The code above works to find the opimal learning rate for the model. I have opted to not include this step, as it would increase the runtime of this session drastically. This notebook was originally completed in Google Colab, where I was able to leverage the Tesla T4 GPU. The 'learner.lr_find' function showed that a learning rate of ~1e-4 yielded the lowest loss across 6 epochs. I have included a screenshot above of the results of this step. Again, if you wish to see my full, original project, please check it out [here](https://colab.research.google.com/drive/1beGNV43zvYgbllXk_Y7lBx-BPVi5EPqH?usp=sharing).   "
   ]
  },
  {
   "cell_type": "code",
   "execution_count": 19,
   "id": "ea48b63e",
   "metadata": {
    "execution": {
     "iopub.execute_input": "2024-05-23T14:54:53.739115Z",
     "iopub.status.busy": "2024-05-23T14:54:53.738290Z",
     "iopub.status.idle": "2024-05-23T14:54:53.742467Z",
     "shell.execute_reply": "2024-05-23T14:54:53.741555Z"
    },
    "papermill": {
     "duration": 0.049961,
     "end_time": "2024-05-23T14:54:53.744394",
     "exception": false,
     "start_time": "2024-05-23T14:54:53.694433",
     "status": "completed"
    },
    "tags": []
   },
   "outputs": [],
   "source": [
    "# Visualizing learning rate loss performance across epochs\n",
    "#learner.lr_plot()"
   ]
  },
  {
   "attachments": {
    "66997312-a010-48cd-8430-a272ab74fbac.png": {
     "image/png": "[encoded data removed]"
    }
   },
   "cell_type": "markdown",
   "id": "bb79c415",
   "metadata": {
    "papermill": {
     "duration": 0.041012,
     "end_time": "2024-05-23T14:54:53.827598",
     "exception": false,
     "start_time": "2024-05-23T14:54:53.786586",
     "status": "completed"
    },
    "tags": []
   },
   "source": [
    "![image.png](attachment:66997312-a010-48cd-8430-a272ab74fbac.png)"
   ]
  },
  {
   "cell_type": "markdown",
   "id": "d2c11519",
   "metadata": {
    "papermill": {
     "duration": 0.041157,
     "end_time": "2024-05-23T14:54:53.910139",
     "exception": false,
     "start_time": "2024-05-23T14:54:53.868982",
     "status": "completed"
    },
    "tags": []
   },
   "source": [
    "The code line above has also been commented out, as it is dependent upon the previous line. However, I have included an image of the results (again, obtained from my original work). The plot above shows us that the optimal learning rate is somewhere around 10^-4 on the log scale (1e-4). For simplicity, I have opted to use 1e-4 as the 'optimal' learning rate. This learning rate will be plugged into the final model below. "
   ]
  },
  {
   "cell_type": "code",
   "execution_count": 20,
   "id": "9baab09c",
   "metadata": {
    "execution": {
     "iopub.execute_input": "2024-05-23T14:54:53.994826Z",
     "iopub.status.busy": "2024-05-23T14:54:53.994119Z",
     "iopub.status.idle": "2024-05-23T15:11:31.685700Z",
     "shell.execute_reply": "2024-05-23T15:11:31.683823Z"
    },
    "papermill": {
     "duration": 997.737254,
     "end_time": "2024-05-23T15:11:31.688880",
     "exception": false,
     "start_time": "2024-05-23T14:54:53.951626",
     "status": "completed"
    },
    "tags": []
   },
   "outputs": [
    {
     "name": "stdout",
     "output_type": "stream",
     "text": [
      "\n",
      "\n",
      "begin training using triangular learning rate policy with max lr of 0.0001...\n",
      "Epoch 1/10\n",
      "5544/5544 [==============================] - 536s 85ms/step - loss: 0.2634 - accuracy: 0.8964 - val_loss: 0.2043 - val_accuracy: 0.9207\n",
      "Epoch 2/10\n",
      "5544/5544 [==============================] - 462s 83ms/step - loss: 0.1808 - accuracy: 0.9345 - val_loss: 0.2238 - val_accuracy: 0.9170\n",
      "Epoch 2: early stopping\n",
      "Restoring model weights from the end of the best epoch: 1.\n",
      "Weights from best epoch have been loaded into model.\n"
     ]
    }
   ],
   "source": [
    "# Applying optimal learning rate to model\n",
    "history = learner.autofit(\n",
    "    1e-4,\n",
    "    checkpoint_folder = 'checkpoint',\n",
    "    epochs = 10,\n",
    "    early_stopping = True\n",
    ")"
   ]
  },
  {
   "cell_type": "markdown",
   "id": "a4ed5af7",
   "metadata": {
    "papermill": {
     "duration": 1.124634,
     "end_time": "2024-05-23T15:11:34.122169",
     "exception": false,
     "start_time": "2024-05-23T15:11:32.997535",
     "status": "completed"
    },
    "tags": []
   },
   "source": [
    "<a id=\"toc\"></a>\n",
    "\n",
    "<a href=\"#toc\" style=\"background-color:blue; color:white; padding: 7px 10px; text-decoration: none; border-radius: 50px;\">Back to top</a><a id=\"toc\"></a>\n",
    "\n",
    "<a id=\"toc\"></a>\n",
    "\n",
    "<a href=\"#7\" style=\"background-color:blue; color:white; padding: 7px 10px; text-decoration: none; border-radius: 50px;\">Next Section</a><a id=\"toc\"></a>\n",
    "\n",
    "<a id=\"6\"></a>\n",
    "# **Model Validation**"
   ]
  },
  {
   "cell_type": "code",
   "execution_count": 21,
   "id": "bc6e545e",
   "metadata": {
    "execution": {
     "iopub.execute_input": "2024-05-23T15:11:36.183821Z",
     "iopub.status.busy": "2024-05-23T15:11:36.182976Z",
     "iopub.status.idle": "2024-05-23T15:11:53.836884Z",
     "shell.execute_reply": "2024-05-23T15:11:53.835793Z"
    },
    "papermill": {
     "duration": 18.690939,
     "end_time": "2024-05-23T15:11:53.839519",
     "exception": false,
     "start_time": "2024-05-23T15:11:35.148580",
     "status": "completed"
    },
    "tags": []
   },
   "outputs": [
    {
     "name": "stdout",
     "output_type": "stream",
     "text": [
      "154/154 [==============================] - 17s 83ms/step\n",
      "              precision    recall  f1-score   support\n",
      "\n",
      "           0       0.93      0.91      0.92      2495\n",
      "           1       0.91      0.93      0.92      2433\n",
      "\n",
      "    accuracy                           0.92      4928\n",
      "   macro avg       0.92      0.92      0.92      4928\n",
      "weighted avg       0.92      0.92      0.92      4928\n",
      "\n"
     ]
    }
   ],
   "source": [
    "# Creating predictor and viewing metrics on validation data\n",
    "predictor = ktrain.get_predictor(learner.model, preproc = preprocess)\n",
    "validation = learner.validate(val_data = val, print_report = True)"
   ]
  },
  {
   "cell_type": "markdown",
   "id": "95871728",
   "metadata": {
    "papermill": {
     "duration": 1.045751,
     "end_time": "2024-05-23T15:11:55.995705",
     "exception": false,
     "start_time": "2024-05-23T15:11:54.949954",
     "status": "completed"
    },
    "tags": []
   },
   "source": [
    "Above we can view some performance metrics of the final model. The model had slightly higher precision for negative cases (0.93) than for positive cases (0.92). Conversely, the model had slightly higher recall for positive cases (0.93) than for negative cases (0.91). The f1-scores for positive and negative cases were 0.93 and 0.92, respectively. Lastly, the accuracy of the model was 0.92. Overall, this model performs better than the benchmark provided by the professor of this course."
   ]
  },
  {
   "cell_type": "markdown",
   "id": "2e825693",
   "metadata": {
    "papermill": {
     "duration": 1.054945,
     "end_time": "2024-05-23T15:11:58.153501",
     "exception": false,
     "start_time": "2024-05-23T15:11:57.098556",
     "status": "completed"
    },
    "tags": []
   },
   "source": [
    "<a id=\"toc\"></a>\n",
    "\n",
    "<a href=\"#toc\" style=\"background-color:blue; color:white; padding: 7px 10px; text-decoration: none; border-radius: 50px;\">Back to top</a><a id=\"toc\"></a>\n",
    "\n",
    "<a id=\"toc\"></a>\n",
    "\n",
    "<a href=\"#c\" style=\"background-color:blue; color:white; padding: 7px 10px; text-decoration: none; border-radius: 50px;\">Next Section</a><a id=\"toc\"></a>\n",
    "\n",
    "<a id=\"7\"></a>\n",
    "# **Predictions**"
   ]
  },
  {
   "cell_type": "code",
   "execution_count": 22,
   "id": "95173150",
   "metadata": {
    "execution": {
     "iopub.execute_input": "2024-05-23T15:12:00.321660Z",
     "iopub.status.busy": "2024-05-23T15:12:00.321261Z",
     "iopub.status.idle": "2024-05-23T15:12:00.327063Z",
     "shell.execute_reply": "2024-05-23T15:12:00.326121Z"
    },
    "papermill": {
     "duration": 1.039236,
     "end_time": "2024-05-23T15:12:00.329296",
     "exception": false,
     "start_time": "2024-05-23T15:11:59.290060",
     "status": "completed"
    },
    "tags": []
   },
   "outputs": [],
   "source": [
    "# Creating novel headlines to make predictions on\n",
    "test_docs = [\n",
    "'Stress May Be Your Heart’s Worst Enemy Psychological stress activates the fear center in the brain, setting into motion a cascade of reactions that can lead to heart attacks and strokes.',\n",
    "'Exercising to Slim Down? Try Getting Bigger. It’s high time for women to reclaim the real strength behind exercise.',\n",
    "'What Are Your Food Resolutions for the New Year? Join us for the Eat Well Challenge starting in January.',\n",
    "'Why We All Need to Have More Fun. Prioritizing fun may feel impossible right now. But this four-step plan will help you rediscover how to feel more alive.',\n",
    "'Cuomo Will Not Be Prosecuted in Groping Case, Albany D.A. Says. The district attorney described the woman who said former Gov. Andrew Cuomo had groped her as “credible,” but added that proving her allegation would be difficult.',\n",
    "'A Film Captures Jewish Life in a Polish Town Before the Nazis Arrived. A documentary based on a home movie shot by an American in 1938 provides a look at the vibrancy of a Jewish community in Europe just before the Holocaust.'\n",
    "             ]"
   ]
  },
  {
   "cell_type": "markdown",
   "id": "228152f0",
   "metadata": {
    "papermill": {
     "duration": 0.988651,
     "end_time": "2024-05-23T15:12:02.392712",
     "exception": false,
     "start_time": "2024-05-23T15:12:01.404061",
     "status": "completed"
    },
    "tags": []
   },
   "source": [
    "The code chunk above creates novel headlines and short descriptions that the model can make predictions on."
   ]
  },
  {
   "cell_type": "code",
   "execution_count": 23,
   "id": "d6955730",
   "metadata": {
    "execution": {
     "iopub.execute_input": "2024-05-23T15:12:04.384895Z",
     "iopub.status.busy": "2024-05-23T15:12:04.384288Z",
     "iopub.status.idle": "2024-05-23T15:12:13.309064Z",
     "shell.execute_reply": "2024-05-23T15:12:13.308133Z"
    },
    "papermill": {
     "duration": 9.88486,
     "end_time": "2024-05-23T15:12:13.311596",
     "exception": false,
     "start_time": "2024-05-23T15:12:03.426736",
     "status": "completed"
    },
    "tags": []
   },
   "outputs": [
    {
     "name": "stdout",
     "output_type": "stream",
     "text": [
      "---------------------------\n",
      "The probability this is healthy is 0.99003017\n",
      "Stress May Be Your Heart’s Worst Enemy Psychological stress activates the fear center in the brain, setting into motion a cascade of reactions that can lead to heart attacks and strokes.\n",
      "---------------------------\n",
      "The probability this is healthy is 0.9696658\n",
      "Exercising to Slim Down? Try Getting Bigger. It’s high time for women to reclaim the real strength behind exercise.\n",
      "---------------------------\n",
      "The probability this is healthy is 0.946473\n",
      "What Are Your Food Resolutions for the New Year? Join us for the Eat Well Challenge starting in January.\n",
      "---------------------------\n",
      "The probability this is healthy is 0.9350423\n",
      "Why We All Need to Have More Fun. Prioritizing fun may feel impossible right now. But this four-step plan will help you rediscover how to feel more alive.\n",
      "---------------------------\n",
      "The probability this is healthy is 0.00588241\n",
      "Cuomo Will Not Be Prosecuted in Groping Case, Albany D.A. Says. The district attorney described the woman who said former Gov. Andrew Cuomo had groped her as “credible,” but added that proving her allegation would be difficult.\n",
      "---------------------------\n",
      "The probability this is healthy is 0.0032891287\n",
      "A Film Captures Jewish Life in a Polish Town Before the Nazis Arrived. A documentary based on a home movie shot by an American in 1938 provides a look at the vibrancy of a Jewish community in Europe just before the Holocaust.\n"
     ]
    }
   ],
   "source": [
    "# Making predictions on 'test_docs'\n",
    "for i, text in enumerate(test_docs):\n",
    "  probs = predictor.predict(text, return_proba=True)\n",
    "  print(\"---------------------------\")\n",
    "  print('The probability this is healthy is %s' % probs[1])\n",
    "  print(text)"
   ]
  },
  {
   "cell_type": "markdown",
   "id": "156632b9",
   "metadata": {
    "papermill": {
     "duration": 0.971597,
     "end_time": "2024-05-23T15:12:15.304821",
     "exception": false,
     "start_time": "2024-05-23T15:12:14.333224",
     "status": "completed"
    },
    "tags": []
   },
   "source": [
    "Above, we can see how the model provides probabilities for each headline being classified as 'healthy'. As a reminder, the 'healthy' label should include any news article that involves words pertaining to either wellness or healthy living.\n",
    "\n",
    "From the results above, the model appeared to be successful in identifying 'healthy' news articles. For example, the article with the headline \"Exercising to Slim Down? Try Getting Bigger\" yielded a high probability of ~0.94. In this case, the model was correct, as this headline clearly involves wellness/healthy living. In contrast to this, the article with the headline \"A Film Captures Jewish Life in a Polish Town Before the Nazis Arrived\" yielded a low probability of ~0.002. In this case, the model was correct in not identifying this article as one that relates to wellness or healthy living."
   ]
  },
  {
   "cell_type": "markdown",
   "id": "898daa7e",
   "metadata": {
    "papermill": {
     "duration": 1.02707,
     "end_time": "2024-05-23T15:12:17.376302",
     "exception": false,
     "start_time": "2024-05-23T15:12:16.349232",
     "status": "completed"
    },
    "tags": []
   },
   "source": [
    "<a id=\"toc\"></a>\n",
    "\n",
    "<a href=\"#toc\" style=\"background-color:blue; color:white; padding: 7px 10px; text-decoration: none; border-radius: 50px;\">Back to top</a><a id=\"toc\"></a>\n",
    "\n",
    "<a id=\"toc\"></a>\n",
    "\n",
    "<a href=\"#r\" style=\"background-color:blue; color:white; padding: 7px 10px; text-decoration: none; border-radius: 50px;\">Next Section</a><a id=\"toc\"></a>\n",
    "\n",
    "<a id=\"c\"></a>\n",
    "# **Conclusion**"
   ]
  },
  {
   "cell_type": "markdown",
   "id": "baab035b",
   "metadata": {
    "papermill": {
     "duration": 1.006305,
     "end_time": "2024-05-23T15:12:19.454031",
     "exception": false,
     "start_time": "2024-05-23T15:12:18.447726",
     "status": "completed"
    },
    "tags": []
   },
   "source": [
    "In this project, a ktrain DistilBERT model was used for supervised text classification. The overarching goal of the project was to develop a model that would correctly identify news articles that contain language pertaining to 'health' or 'wellness'. The dataset used contained roughly 210,000 news headlines dating from 2012 to 2022. Each news article contained a category, headline, and short description. The headline and short description attributes were combined, in order to create a single column of text for each news article that the language model would use. The target categories which pertained to 'health' or 'wellness' were 'HEALTHY LIVING' and 'WELLNESS'. All news articles which fell into either of these categories were labeled as the positive class (1). All other news articles were labeled as the negative class (0). It was found that there was an extreme imbalance of classes, with only ~12% of entries being in the positive class. To remedy this, a sample of size 49,278 was taken from the original dataset in which each class made up 50% of the sample."
   ]
  },
  {
   "cell_type": "markdown",
   "id": "98c94e88",
   "metadata": {
    "papermill": {
     "duration": 1.002838,
     "end_time": "2024-05-23T15:12:21.514042",
     "exception": false,
     "start_time": "2024-05-23T15:12:20.511204",
     "status": "completed"
    },
    "tags": []
   },
   "source": [
    "The initial DistilBERT model used the following parameters:\n",
    "- val_df = None\n",
    "- max_features = 20000\n",
    "- maxlen = 128\n",
    "- val_pct = 0.1\n",
    "- ngram_range = 1\n",
    "\n",
    "The maxlen value could likely be increased to 256 or 512 to potentially yield better results. However, this would made the project much more resource intensive. Future works could attempt to rerun this project with those maxlen values.\n",
    "\n",
    "Next, learner.lr_find() was used to identify the optimal learning rate for the model. The results showed that a learning rate of roughly 1e-4 yielded the lowest loss. It should be noted that the plot shows a lower loss somewhere between 1e-4 and 1e-4.5. However, for the sake of this project, 1e-4 was sufficient. Future works could attempt to find the exact value of the optimal learning rate."
   ]
  },
  {
   "cell_type": "markdown",
   "id": "6c4d23fd",
   "metadata": {
    "papermill": {
     "duration": 0.953122,
     "end_time": "2024-05-23T15:12:23.499642",
     "exception": false,
     "start_time": "2024-05-23T15:12:22.546520",
     "status": "completed"
    },
    "tags": []
   },
   "source": [
    "#### Model Performance: Comparison to Benchmark\n",
    "(*Benchmark scores shown in italics*)\n",
    "\n",
    "Positive Class:\n",
    "- Precision --> 0.92  |  *0.85*\n",
    "- Recall --> 0.93  |  *0.89*\n",
    "- f1-score --> 0.93  |  *0.87*\n",
    "\n",
    "Negative Class:\n",
    "- Precision --> 0.93  |  *0.88*\n",
    "- Recall --> 0.91  |  *0.84*\n",
    "- f1-score --> 0.92  |  *0.86*\n",
    "\n",
    "Accuracy:\n",
    "- 0.92   |   *0.86*"
   ]
  },
  {
   "cell_type": "markdown",
   "id": "a357e8ac",
   "metadata": {
    "papermill": {
     "duration": 1.0274,
     "end_time": "2024-05-23T15:12:25.555978",
     "exception": false,
     "start_time": "2024-05-23T15:12:24.528578",
     "status": "completed"
    },
    "tags": []
   },
   "source": [
    "In conclusion, the model created in this project outperformed the benchmark model across all metrics. For both classes, all metrics of the model exceeded 90%, suggesting that the final model is effective at correctly classifying the news articles into the appropriate classes. For real-world applications, these metrics suggest that the model may be sufficient. However, it is likely that other models may be equally effective or even superior for this supervised text classification task. One such model could be BERT. Although BERT is more resource intensive than the slimmer DistilBERT, it is likely that it would yield better results."
   ]
  },
  {
   "cell_type": "markdown",
   "id": "358e3491",
   "metadata": {
    "papermill": {
     "duration": 0.952735,
     "end_time": "2024-05-23T15:12:27.576582",
     "exception": false,
     "start_time": "2024-05-23T15:12:26.623847",
     "status": "completed"
    },
    "tags": []
   },
   "source": [
    "<a id=\"toc\"></a>\n",
    "\n",
    "<a href=\"#toc\" style=\"background-color:blue; color:white; padding: 7px 10px; text-decoration: none; border-radius: 50px;\">Back to top</a><a id=\"toc\"></a>\n",
    "\n",
    "<a id=\"r\"></a>\n",
    "# **References**\n",
    "\n",
    "- ktrain: https://github.com/amaiya/ktrain\n",
    "- BERT: https://arxiv.org/abs/1810.04805\n",
    "- DistilBERT: https://arxiv.org/abs/1910.01108\n",
    "- News Category Dataset: https://www.kaggle.com/datasets/rmisra/news-category-dataset\n",
    "- News Category Dataset Author: https://rishabhmisra.github.io/publications/"
   ]
  }
 ],
 "metadata": {
  "kaggle": {
   "accelerator": "gpu",
   "dataSources": [
    {
     "datasetId": 32526,
     "sourceId": 4243451,
     "sourceType": "datasetVersion"
    }
   ],
   "dockerImageVersionId": 30698,
   "isGpuEnabled": true,
   "isInternetEnabled": true,
   "language": "python",
   "sourceType": "notebook"
  },
  "kernelspec": {
   "display_name": "Python 3",
   "language": "python",
   "name": "python3"
  },
  "language_info": {
   "codemirror_mode": {
    "name": "ipython",
    "version": 3
   },
   "file_extension": ".py",
   "mimetype": "text/x-python",
   "name": "python",
   "nbconvert_exporter": "python",
   "pygments_lexer": "ipython3",
   "version": "3.10.13"
  },
  "papermill": {
   "default_parameters": {},
   "duration": 1225.130038,
   "end_time": "2024-05-23T15:12:31.329146",
   "environment_variables": {},
   "exception": null,
   "input_path": "__notebook__.ipynb",
   "output_path": "__notebook__.ipynb",
   "parameters": {},
   "start_time": "2024-05-23T14:52:06.199108",
   "version": "2.5.0"
  },
  "widgets": {
   "application/vnd.jupyter.widget-state+json": {
    "state": {
     "01f140fa399b4dbbb665437fdd0b97de": {
      "model_module": "@jupyter-widgets/base",
      "model_module_version": "1.2.0",
      "model_name": "LayoutModel",
      "state": {
       "_model_module": "@jupyter-widgets/base",
       "_model_module_version": "1.2.0",
       "_model_name": "LayoutModel",
       "_view_count": null,
       "_view_module": "@jupyter-widgets/base",
       "_view_module_version": "1.2.0",
       "_view_name": "LayoutView",
       "align_content": null,
       "align_items": null,
       "align_self": null,
       "border": null,
       "bottom": null,
       "display": null,
       "flex": null,
       "flex_flow": null,
       "grid_area": null,
       "grid_auto_columns": null,
       "grid_auto_flow": null,
       "grid_auto_rows": null,
       "grid_column": null,
       "grid_gap": null,
       "grid_row": null,
       "grid_template_areas": null,
       "grid_template_columns": null,
       "grid_template_rows": null,
       "height": null,
       "justify_content": null,
       "justify_items": null,
       "left": null,
       "margin": null,
       "max_height": null,
       "max_width": null,
       "min_height": null,
       "min_width": null,
       "object_fit": null,
       "object_position": null,
       "order": null,
       "overflow": null,
       "overflow_x": null,
       "overflow_y": null,
       "padding": null,
       "right": null,
       "top": null,
       "visibility": null,
       "width": null
      }
     },
     "09702fb9ba5843ceb13948ece459e5f3": {
      "model_module": "@jupyter-widgets/controls",
      "model_module_version": "1.5.0",
      "model_name": "HTMLModel",
      "state": {
       "_dom_classes": [],
       "_model_module": "@jupyter-widgets/controls",
       "_model_module_version": "1.5.0",
       "_model_name": "HTMLModel",
       "_view_count": null,
       "_view_module": "@jupyter-widgets/controls",
       "_view_module_version": "1.5.0",
       "_view_name": "HTMLView",
       "description": "",
       "description_tooltip": null,
       "layout": "IPY_MODEL_c5a30795d6874cb18ec573854788c6a2",
       "placeholder": "​",
       "style": "IPY_MODEL_45dc0917b39a41a8a211fbc2a9eba020",
       "value": " 483/483 [00:00&lt;00:00, 39.5kB/s]"
      }
     },
     "0a3e1ad7349d4a9288369bde43be05b3": {
      "model_module": "@jupyter-widgets/base",
      "model_module_version": "1.2.0",
      "model_name": "LayoutModel",
      "state": {
       "_model_module": "@jupyter-widgets/base",
       "_model_module_version": "1.2.0",
       "_model_name": "LayoutModel",
       "_view_count": null,
       "_view_module": "@jupyter-widgets/base",
       "_view_module_version": "1.2.0",
       "_view_name": "LayoutView",
       "align_content": null,
       "align_items": null,
       "align_self": null,
       "border": null,
       "bottom": null,
       "display": null,
       "flex": null,
       "flex_flow": null,
       "grid_area": null,
       "grid_auto_columns": null,
       "grid_auto_flow": null,
       "grid_auto_rows": null,
       "grid_column": null,
       "grid_gap": null,
       "grid_row": null,
       "grid_template_areas": null,
       "grid_template_columns": null,
       "grid_template_rows": null,
       "height": null,
       "justify_content": null,
       "justify_items": null,
       "left": null,
       "margin": null,
       "max_height": null,
       "max_width": null,
       "min_height": null,
       "min_width": null,
       "object_fit": null,
       "object_position": null,
       "order": null,
       "overflow": null,
       "overflow_x": null,
       "overflow_y": null,
       "padding": null,
       "right": null,
       "top": null,
       "visibility": null,
       "width": null
      }
     },
     "0dd70d9fec454674b1e1fc3e91ec9a60": {
      "model_module": "@jupyter-widgets/base",
      "model_module_version": "1.2.0",
      "model_name": "LayoutModel",
      "state": {
       "_model_module": "@jupyter-widgets/base",
       "_model_module_version": "1.2.0",
       "_model_name": "LayoutModel",
       "_view_count": null,
       "_view_module": "@jupyter-widgets/base",
       "_view_module_version": "1.2.0",
       "_view_name": "LayoutView",
       "align_content": null,
       "align_items": null,
       "align_self": null,
       "border": null,
       "bottom": null,
       "display": null,
       "flex": null,
       "flex_flow": null,
       "grid_area": null,
       "grid_auto_columns": null,
       "grid_auto_flow": null,
       "grid_auto_rows": null,
       "grid_column": null,
       "grid_gap": null,
       "grid_row": null,
       "grid_template_areas": null,
       "grid_template_columns": null,
       "grid_template_rows": null,
       "height": null,
       "justify_content": null,
       "justify_items": null,
       "left": null,
       "margin": null,
       "max_height": null,
       "max_width": null,
       "min_height": null,
       "min_width": null,
       "object_fit": null,
       "object_position": null,
       "order": null,
       "overflow": null,
       "overflow_x": null,
       "overflow_y": null,
       "padding": null,
       "right": null,
       "top": null,
       "visibility": null,
       "width": null
      }
     },
     "20048acfe72c49ccb137eb6774df5664": {
      "model_module": "@jupyter-widgets/base",
      "model_module_version": "1.2.0",
      "model_name": "LayoutModel",
      "state": {
       "_model_module": "@jupyter-widgets/base",
       "_model_module_version": "1.2.0",
       "_model_name": "LayoutModel",
       "_view_count": null,
       "_view_module": "@jupyter-widgets/base",
       "_view_module_version": "1.2.0",
       "_view_name": "LayoutView",
       "align_content": null,
       "align_items": null,
       "align_self": null,
       "border": null,
       "bottom": null,
       "display": null,
       "flex": null,
       "flex_flow": null,
       "grid_area": null,
       "grid_auto_columns": null,
       "grid_auto_flow": null,
       "grid_auto_rows": null,
       "grid_column": null,
       "grid_gap": null,
       "grid_row": null,
       "grid_template_areas": null,
       "grid_template_columns": null,
       "grid_template_rows": null,
       "height": null,
       "justify_content": null,
       "justify_items": null,
       "left": null,
       "margin": null,
       "max_height": null,
       "max_width": null,
       "min_height": null,
       "min_width": null,
       "object_fit": null,
       "object_position": null,
       "order": null,
       "overflow": null,
       "overflow_x": null,
       "overflow_y": null,
       "padding": null,
       "right": null,
       "top": null,
       "visibility": null,
       "width": null
      }
     },
     "2174069071904412b3fe740f7a30c163": {
      "model_module": "@jupyter-widgets/controls",
      "model_module_version": "1.5.0",
      "model_name": "HBoxModel",
      "state": {
       "_dom_classes": [],
       "_model_module": "@jupyter-widgets/controls",
       "_model_module_version": "1.5.0",
       "_model_name": "HBoxModel",
       "_view_count": null,
       "_view_module": "@jupyter-widgets/controls",
       "_view_module_version": "1.5.0",
       "_view_name": "HBoxView",
       "box_style": "",
       "children": [
        "IPY_MODEL_5f0386d7be8d40f8b788d68997a57780",
        "IPY_MODEL_3f70eb58757043059f012f99a8fbcc2a",
        "IPY_MODEL_8989e0a495774809845fa2c837df2a63"
       ],
       "layout": "IPY_MODEL_83b0f20b042947e28fe55699933cc8e4"
      }
     },
     "2e4e337bc7e3434ba836a71fec3ae4e8": {
      "model_module": "@jupyter-widgets/controls",
      "model_module_version": "1.5.0",
      "model_name": "FloatProgressModel",
      "state": {
       "_dom_classes": [],
       "_model_module": "@jupyter-widgets/controls",
       "_model_module_version": "1.5.0",
       "_model_name": "FloatProgressModel",
       "_view_count": null,
       "_view_module": "@jupyter-widgets/controls",
       "_view_module_version": "1.5.0",
       "_view_name": "ProgressView",
       "bar_style": "success",
       "description": "",
       "description_tooltip": null,
       "layout": "IPY_MODEL_0dd70d9fec454674b1e1fc3e91ec9a60",
       "max": 48.0,
       "min": 0.0,
       "orientation": "horizontal",
       "style": "IPY_MODEL_b442d1fde67e42489e0d7eb411671623",
       "value": 48.0
      }
     },
     "39e672a622644762a53c23f0cf796bdc": {
      "model_module": "@jupyter-widgets/base",
      "model_module_version": "1.2.0",
      "model_name": "LayoutModel",
      "state": {
       "_model_module": "@jupyter-widgets/base",
       "_model_module_version": "1.2.0",
       "_model_name": "LayoutModel",
       "_view_count": null,
       "_view_module": "@jupyter-widgets/base",
       "_view_module_version": "1.2.0",
       "_view_name": "LayoutView",
       "align_content": null,
       "align_items": null,
       "align_self": null,
       "border": null,
       "bottom": null,
       "display": null,
       "flex": null,
       "flex_flow": null,
       "grid_area": null,
       "grid_auto_columns": null,
       "grid_auto_flow": null,
       "grid_auto_rows": null,
       "grid_column": null,
       "grid_gap": null,
       "grid_row": null,
       "grid_template_areas": null,
       "grid_template_columns": null,
       "grid_template_rows": null,
       "height": null,
       "justify_content": null,
       "justify_items": null,
       "left": null,
       "margin": null,
       "max_height": null,
       "max_width": null,
       "min_height": null,
       "min_width": null,
       "object_fit": null,
       "object_position": null,
       "order": null,
       "overflow": null,
       "overflow_x": null,
       "overflow_y": null,
       "padding": null,
       "right": null,
       "top": null,
       "visibility": null,
       "width": null
      }
     },
     "3e723238877b4c5bb756759650098516": {
      "model_module": "@jupyter-widgets/base",
      "model_module_version": "1.2.0",
      "model_name": "LayoutModel",
      "state": {
       "_model_module": "@jupyter-widgets/base",
       "_model_module_version": "1.2.0",
       "_model_name": "LayoutModel",
       "_view_count": null,
       "_view_module": "@jupyter-widgets/base",
       "_view_module_version": "1.2.0",
       "_view_name": "LayoutView",
       "align_content": null,
       "align_items": null,
       "align_self": null,
       "border": null,
       "bottom": null,
       "display": null,
       "flex": null,
       "flex_flow": null,
       "grid_area": null,
       "grid_auto_columns": null,
       "grid_auto_flow": null,
       "grid_auto_rows": null,
       "grid_column": null,
       "grid_gap": null,
       "grid_row": null,
       "grid_template_areas": null,
       "grid_template_columns": null,
       "grid_template_rows": null,
       "height": null,
       "justify_content": null,
       "justify_items": null,
       "left": null,
       "margin": null,
       "max_height": null,
       "max_width": null,
       "min_height": null,
       "min_width": null,
       "object_fit": null,
       "object_position": null,
       "order": null,
       "overflow": null,
       "overflow_x": null,
       "overflow_y": null,
       "padding": null,
       "right": null,
       "top": null,
       "visibility": null,
       "width": null
      }
     },
     "3f70eb58757043059f012f99a8fbcc2a": {
      "model_module": "@jupyter-widgets/controls",
      "model_module_version": "1.5.0",
      "model_name": "FloatProgressModel",
      "state": {
       "_dom_classes": [],
       "_model_module": "@jupyter-widgets/controls",
       "_model_module_version": "1.5.0",
       "_model_name": "FloatProgressModel",
       "_view_count": null,
       "_view_module": "@jupyter-widgets/controls",
       "_view_module_version": "1.5.0",
       "_view_name": "ProgressView",
       "bar_style": "success",
       "description": "",
       "description_tooltip": null,
       "layout": "IPY_MODEL_b65e4641c2bf468e830746d2613fab72",
       "max": 231508.0,
       "min": 0.0,
       "orientation": "horizontal",
       "style": "IPY_MODEL_dbe0bcfe9dec40dbb9fdde03ef44d398",
       "value": 231508.0
      }
     },
     "41c635e561964ec9bfc4b41bf0f86c61": {
      "model_module": "@jupyter-widgets/controls",
      "model_module_version": "1.5.0",
      "model_name": "HBoxModel",
      "state": {
       "_dom_classes": [],
       "_model_module": "@jupyter-widgets/controls",
       "_model_module_version": "1.5.0",
       "_model_name": "HBoxModel",
       "_view_count": null,
       "_view_module": "@jupyter-widgets/controls",
       "_view_module_version": "1.5.0",
       "_view_name": "HBoxView",
       "box_style": "",
       "children": [
        "IPY_MODEL_69f10672db494602bb64836e957fea60",
        "IPY_MODEL_a8697db6691a4bdba1863e911709c0f9",
        "IPY_MODEL_b71005eb3ba24b64b29271333b57a7a5"
       ],
       "layout": "IPY_MODEL_20048acfe72c49ccb137eb6774df5664"
      }
     },
     "42528a18ea404aa59089d506341d7c95": {
      "model_module": "@jupyter-widgets/controls",
      "model_module_version": "1.5.0",
      "model_name": "FloatProgressModel",
      "state": {
       "_dom_classes": [],
       "_model_module": "@jupyter-widgets/controls",
       "_model_module_version": "1.5.0",
       "_model_name": "FloatProgressModel",
       "_view_count": null,
       "_view_module": "@jupyter-widgets/controls",
       "_view_module_version": "1.5.0",
       "_view_name": "ProgressView",
       "bar_style": "success",
       "description": "",
       "description_tooltip": null,
       "layout": "IPY_MODEL_7f3b73057cd64be2bab260d5adee7772",
       "max": 483.0,
       "min": 0.0,
       "orientation": "horizontal",
       "style": "IPY_MODEL_51ed0982d65d41a28f43cf9a38f305e1",
       "value": 483.0
      }
     },
     "45dc0917b39a41a8a211fbc2a9eba020": {
      "model_module": "@jupyter-widgets/controls",
      "model_module_version": "1.5.0",
      "model_name": "DescriptionStyleModel",
      "state": {
       "_model_module": "@jupyter-widgets/controls",
       "_model_module_version": "1.5.0",
       "_model_name": "DescriptionStyleModel",
       "_view_count": null,
       "_view_module": "@jupyter-widgets/base",
       "_view_module_version": "1.2.0",
       "_view_name": "StyleView",
       "description_width": ""
      }
     },
     "4d4c6039ab2748859eb697736b7ba994": {
      "model_module": "@jupyter-widgets/base",
      "model_module_version": "1.2.0",
      "model_name": "LayoutModel",
      "state": {
       "_model_module": "@jupyter-widgets/base",
       "_model_module_version": "1.2.0",
       "_model_name": "LayoutModel",
       "_view_count": null,
       "_view_module": "@jupyter-widgets/base",
       "_view_module_version": "1.2.0",
       "_view_name": "LayoutView",
       "align_content": null,
       "align_items": null,
       "align_self": null,
       "border": null,
       "bottom": null,
       "display": null,
       "flex": null,
       "flex_flow": null,
       "grid_area": null,
       "grid_auto_columns": null,
       "grid_auto_flow": null,
       "grid_auto_rows": null,
       "grid_column": null,
       "grid_gap": null,
       "grid_row": null,
       "grid_template_areas": null,
       "grid_template_columns": null,
       "grid_template_rows": null,
       "height": null,
       "justify_content": null,
       "justify_items": null,
       "left": null,
       "margin": null,
       "max_height": null,
       "max_width": null,
       "min_height": null,
       "min_width": null,
       "object_fit": null,
       "object_position": null,
       "order": null,
       "overflow": null,
       "overflow_x": null,
       "overflow_y": null,
       "padding": null,
       "right": null,
       "top": null,
       "visibility": null,
       "width": null
      }
     },
     "4d9b194f3f7e4114aeb703e933959f84": {
      "model_module": "@jupyter-widgets/controls",
      "model_module_version": "1.5.0",
      "model_name": "DescriptionStyleModel",
      "state": {
       "_model_module": "@jupyter-widgets/controls",
       "_model_module_version": "1.5.0",
       "_model_name": "DescriptionStyleModel",
       "_view_count": null,
       "_view_module": "@jupyter-widgets/base",
       "_view_module_version": "1.2.0",
       "_view_name": "StyleView",
       "description_width": ""
      }
     },
     "51ed0982d65d41a28f43cf9a38f305e1": {
      "model_module": "@jupyter-widgets/controls",
      "model_module_version": "1.5.0",
      "model_name": "ProgressStyleModel",
      "state": {
       "_model_module": "@jupyter-widgets/controls",
       "_model_module_version": "1.5.0",
       "_model_name": "ProgressStyleModel",
       "_view_count": null,
       "_view_module": "@jupyter-widgets/base",
       "_view_module_version": "1.2.0",
       "_view_name": "StyleView",
       "bar_color": null,
       "description_width": ""
      }
     },
     "593dd69958874d029877dd9a8f95134e": {
      "model_module": "@jupyter-widgets/controls",
      "model_module_version": "1.5.0",
      "model_name": "HTMLModel",
      "state": {
       "_dom_classes": [],
       "_model_module": "@jupyter-widgets/controls",
       "_model_module_version": "1.5.0",
       "_model_name": "HTMLModel",
       "_view_count": null,
       "_view_module": "@jupyter-widgets/controls",
       "_view_module_version": "1.5.0",
       "_view_name": "HTMLView",
       "description": "",
       "description_tooltip": null,
       "layout": "IPY_MODEL_ecbc0c1b4a7b4ac7b593140448216e8e",
       "placeholder": "​",
       "style": "IPY_MODEL_4d9b194f3f7e4114aeb703e933959f84",
       "value": "tokenizer.json: 100%"
      }
     },
     "5f0386d7be8d40f8b788d68997a57780": {
      "model_module": "@jupyter-widgets/controls",
      "model_module_version": "1.5.0",
      "model_name": "HTMLModel",
      "state": {
       "_dom_classes": [],
       "_model_module": "@jupyter-widgets/controls",
       "_model_module_version": "1.5.0",
       "_model_name": "HTMLModel",
       "_view_count": null,
       "_view_module": "@jupyter-widgets/controls",
       "_view_module_version": "1.5.0",
       "_view_name": "HTMLView",
       "description": "",
       "description_tooltip": null,
       "layout": "IPY_MODEL_68e72540bc3647249a90e3d440c6b061",
       "placeholder": "​",
       "style": "IPY_MODEL_6d18993558084407a75046f32d27cbb2",
       "value": "vocab.txt: 100%"
      }
     },
     "615cfdc8dd804d66b6cbb8624f5c98c5": {
      "model_module": "@jupyter-widgets/controls",
      "model_module_version": "1.5.0",
      "model_name": "DescriptionStyleModel",
      "state": {
       "_model_module": "@jupyter-widgets/controls",
       "_model_module_version": "1.5.0",
       "_model_name": "DescriptionStyleModel",
       "_view_count": null,
       "_view_module": "@jupyter-widgets/base",
       "_view_module_version": "1.2.0",
       "_view_name": "StyleView",
       "description_width": ""
      }
     },
     "68e72540bc3647249a90e3d440c6b061": {
      "model_module": "@jupyter-widgets/base",
      "model_module_version": "1.2.0",
      "model_name": "LayoutModel",
      "state": {
       "_model_module": "@jupyter-widgets/base",
       "_model_module_version": "1.2.0",
       "_model_name": "LayoutModel",
       "_view_count": null,
       "_view_module": "@jupyter-widgets/base",
       "_view_module_version": "1.2.0",
       "_view_name": "LayoutView",
       "align_content": null,
       "align_items": null,
       "align_self": null,
       "border": null,
       "bottom": null,
       "display": null,
       "flex": null,
       "flex_flow": null,
       "grid_area": null,
       "grid_auto_columns": null,
       "grid_auto_flow": null,
       "grid_auto_rows": null,
       "grid_column": null,
       "grid_gap": null,
       "grid_row": null,
       "grid_template_areas": null,
       "grid_template_columns": null,
       "grid_template_rows": null,
       "height": null,
       "justify_content": null,
       "justify_items": null,
       "left": null,
       "margin": null,
       "max_height": null,
       "max_width": null,
       "min_height": null,
       "min_width": null,
       "object_fit": null,
       "object_position": null,
       "order": null,
       "overflow": null,
       "overflow_x": null,
       "overflow_y": null,
       "padding": null,
       "right": null,
       "top": null,
       "visibility": null,
       "width": null
      }
     },
     "69f10672db494602bb64836e957fea60": {
      "model_module": "@jupyter-widgets/controls",
      "model_module_version": "1.5.0",
      "model_name": "HTMLModel",
      "state": {
       "_dom_classes": [],
       "_model_module": "@jupyter-widgets/controls",
       "_model_module_version": "1.5.0",
       "_model_name": "HTMLModel",
       "_view_count": null,
       "_view_module": "@jupyter-widgets/controls",
       "_view_module_version": "1.5.0",
       "_view_name": "HTMLView",
       "description": "",
       "description_tooltip": null,
       "layout": "IPY_MODEL_e8c8cfd9c692400694f7e352389ea0b6",
       "placeholder": "​",
       "style": "IPY_MODEL_fe197f6a22054f539661aa3584449663",
       "value": "model.safetensors: 100%"
      }
     },
     "6d18993558084407a75046f32d27cbb2": {
      "model_module": "@jupyter-widgets/controls",
      "model_module_version": "1.5.0",
      "model_name": "DescriptionStyleModel",
      "state": {
       "_model_module": "@jupyter-widgets/controls",
       "_model_module_version": "1.5.0",
       "_model_name": "DescriptionStyleModel",
       "_view_count": null,
       "_view_module": "@jupyter-widgets/base",
       "_view_module_version": "1.2.0",
       "_view_name": "StyleView",
       "description_width": ""
      }
     },
     "7b919dcb6efb49bebccc6a8aca29702b": {
      "model_module": "@jupyter-widgets/controls",
      "model_module_version": "1.5.0",
      "model_name": "DescriptionStyleModel",
      "state": {
       "_model_module": "@jupyter-widgets/controls",
       "_model_module_version": "1.5.0",
       "_model_name": "DescriptionStyleModel",
       "_view_count": null,
       "_view_module": "@jupyter-widgets/base",
       "_view_module_version": "1.2.0",
       "_view_name": "StyleView",
       "description_width": ""
      }
     },
     "7f3b73057cd64be2bab260d5adee7772": {
      "model_module": "@jupyter-widgets/base",
      "model_module_version": "1.2.0",
      "model_name": "LayoutModel",
      "state": {
       "_model_module": "@jupyter-widgets/base",
       "_model_module_version": "1.2.0",
       "_model_name": "LayoutModel",
       "_view_count": null,
       "_view_module": "@jupyter-widgets/base",
       "_view_module_version": "1.2.0",
       "_view_name": "LayoutView",
       "align_content": null,
       "align_items": null,
       "align_self": null,
       "border": null,
       "bottom": null,
       "display": null,
       "flex": null,
       "flex_flow": null,
       "grid_area": null,
       "grid_auto_columns": null,
       "grid_auto_flow": null,
       "grid_auto_rows": null,
       "grid_column": null,
       "grid_gap": null,
       "grid_row": null,
       "grid_template_areas": null,
       "grid_template_columns": null,
       "grid_template_rows": null,
       "height": null,
       "justify_content": null,
       "justify_items": null,
       "left": null,
       "margin": null,
       "max_height": null,
       "max_width": null,
       "min_height": null,
       "min_width": null,
       "object_fit": null,
       "object_position": null,
       "order": null,
       "overflow": null,
       "overflow_x": null,
       "overflow_y": null,
       "padding": null,
       "right": null,
       "top": null,
       "visibility": null,
       "width": null
      }
     },
     "83b0f20b042947e28fe55699933cc8e4": {
      "model_module": "@jupyter-widgets/base",
      "model_module_version": "1.2.0",
      "model_name": "LayoutModel",
      "state": {
       "_model_module": "@jupyter-widgets/base",
       "_model_module_version": "1.2.0",
       "_model_name": "LayoutModel",
       "_view_count": null,
       "_view_module": "@jupyter-widgets/base",
       "_view_module_version": "1.2.0",
       "_view_name": "LayoutView",
       "align_content": null,
       "align_items": null,
       "align_self": null,
       "border": null,
       "bottom": null,
       "display": null,
       "flex": null,
       "flex_flow": null,
       "grid_area": null,
       "grid_auto_columns": null,
       "grid_auto_flow": null,
       "grid_auto_rows": null,
       "grid_column": null,
       "grid_gap": null,
       "grid_row": null,
       "grid_template_areas": null,
       "grid_template_columns": null,
       "grid_template_rows": null,
       "height": null,
       "justify_content": null,
       "justify_items": null,
       "left": null,
       "margin": null,
       "max_height": null,
       "max_width": null,
       "min_height": null,
       "min_width": null,
       "object_fit": null,
       "object_position": null,
       "order": null,
       "overflow": null,
       "overflow_x": null,
       "overflow_y": null,
       "padding": null,
       "right": null,
       "top": null,
       "visibility": null,
       "width": null
      }
     },
     "857c56c7993549e2967b9aa2d2098ae3": {
      "model_module": "@jupyter-widgets/controls",
      "model_module_version": "1.5.0",
      "model_name": "HBoxModel",
      "state": {
       "_dom_classes": [],
       "_model_module": "@jupyter-widgets/controls",
       "_model_module_version": "1.5.0",
       "_model_name": "HBoxModel",
       "_view_count": null,
       "_view_module": "@jupyter-widgets/controls",
       "_view_module_version": "1.5.0",
       "_view_name": "HBoxView",
       "box_style": "",
       "children": [
        "IPY_MODEL_db86301cc3324476bfb6da43b40833d5",
        "IPY_MODEL_2e4e337bc7e3434ba836a71fec3ae4e8",
        "IPY_MODEL_9da6679bf208469ab37b7e0f419548a9"
       ],
       "layout": "IPY_MODEL_39e672a622644762a53c23f0cf796bdc"
      }
     },
     "8989e0a495774809845fa2c837df2a63": {
      "model_module": "@jupyter-widgets/controls",
      "model_module_version": "1.5.0",
      "model_name": "HTMLModel",
      "state": {
       "_dom_classes": [],
       "_model_module": "@jupyter-widgets/controls",
       "_model_module_version": "1.5.0",
       "_model_name": "HTMLModel",
       "_view_count": null,
       "_view_module": "@jupyter-widgets/controls",
       "_view_module_version": "1.5.0",
       "_view_name": "HTMLView",
       "description": "",
       "description_tooltip": null,
       "layout": "IPY_MODEL_3e723238877b4c5bb756759650098516",
       "placeholder": "​",
       "style": "IPY_MODEL_af87c538b9cc4e98811c6f24a0c6af26",
       "value": " 232k/232k [00:00&lt;00:00, 12.7MB/s]"
      }
     },
     "8d9fcb8889f94246bf788dc02eadb2e0": {
      "model_module": "@jupyter-widgets/controls",
      "model_module_version": "1.5.0",
      "model_name": "FloatProgressModel",
      "state": {
       "_dom_classes": [],
       "_model_module": "@jupyter-widgets/controls",
       "_model_module_version": "1.5.0",
       "_model_name": "FloatProgressModel",
       "_view_count": null,
       "_view_module": "@jupyter-widgets/controls",
       "_view_module_version": "1.5.0",
       "_view_name": "ProgressView",
       "bar_style": "success",
       "description": "",
       "description_tooltip": null,
       "layout": "IPY_MODEL_93bf52075ecd4b85970a8b2ce6c9c5d8",
       "max": 466062.0,
       "min": 0.0,
       "orientation": "horizontal",
       "style": "IPY_MODEL_d39ca1840bc94d91b2f4ac7a67030c22",
       "value": 466062.0
      }
     },
     "93bf52075ecd4b85970a8b2ce6c9c5d8": {
      "model_module": "@jupyter-widgets/base",
      "model_module_version": "1.2.0",
      "model_name": "LayoutModel",
      "state": {
       "_model_module": "@jupyter-widgets/base",
       "_model_module_version": "1.2.0",
       "_model_name": "LayoutModel",
       "_view_count": null,
       "_view_module": "@jupyter-widgets/base",
       "_view_module_version": "1.2.0",
       "_view_name": "LayoutView",
       "align_content": null,
       "align_items": null,
       "align_self": null,
       "border": null,
       "bottom": null,
       "display": null,
       "flex": null,
       "flex_flow": null,
       "grid_area": null,
       "grid_auto_columns": null,
       "grid_auto_flow": null,
       "grid_auto_rows": null,
       "grid_column": null,
       "grid_gap": null,
       "grid_row": null,
       "grid_template_areas": null,
       "grid_template_columns": null,
       "grid_template_rows": null,
       "height": null,
       "justify_content": null,
       "justify_items": null,
       "left": null,
       "margin": null,
       "max_height": null,
       "max_width": null,
       "min_height": null,
       "min_width": null,
       "object_fit": null,
       "object_position": null,
       "order": null,
       "overflow": null,
       "overflow_x": null,
       "overflow_y": null,
       "padding": null,
       "right": null,
       "top": null,
       "visibility": null,
       "width": null
      }
     },
     "95b3c892c91c478183a188c709da727e": {
      "model_module": "@jupyter-widgets/base",
      "model_module_version": "1.2.0",
      "model_name": "LayoutModel",
      "state": {
       "_model_module": "@jupyter-widgets/base",
       "_model_module_version": "1.2.0",
       "_model_name": "LayoutModel",
       "_view_count": null,
       "_view_module": "@jupyter-widgets/base",
       "_view_module_version": "1.2.0",
       "_view_name": "LayoutView",
       "align_content": null,
       "align_items": null,
       "align_self": null,
       "border": null,
       "bottom": null,
       "display": null,
       "flex": null,
       "flex_flow": null,
       "grid_area": null,
       "grid_auto_columns": null,
       "grid_auto_flow": null,
       "grid_auto_rows": null,
       "grid_column": null,
       "grid_gap": null,
       "grid_row": null,
       "grid_template_areas": null,
       "grid_template_columns": null,
       "grid_template_rows": null,
       "height": null,
       "justify_content": null,
       "justify_items": null,
       "left": null,
       "margin": null,
       "max_height": null,
       "max_width": null,
       "min_height": null,
       "min_width": null,
       "object_fit": null,
       "object_position": null,
       "order": null,
       "overflow": null,
       "overflow_x": null,
       "overflow_y": null,
       "padding": null,
       "right": null,
       "top": null,
       "visibility": null,
       "width": null
      }
     },
     "9990ea91d42f46898b954b5be7f02d50": {
      "model_module": "@jupyter-widgets/base",
      "model_module_version": "1.2.0",
      "model_name": "LayoutModel",
      "state": {
       "_model_module": "@jupyter-widgets/base",
       "_model_module_version": "1.2.0",
       "_model_name": "LayoutModel",
       "_view_count": null,
       "_view_module": "@jupyter-widgets/base",
       "_view_module_version": "1.2.0",
       "_view_name": "LayoutView",
       "align_content": null,
       "align_items": null,
       "align_self": null,
       "border": null,
       "bottom": null,
       "display": null,
       "flex": null,
       "flex_flow": null,
       "grid_area": null,
       "grid_auto_columns": null,
       "grid_auto_flow": null,
       "grid_auto_rows": null,
       "grid_column": null,
       "grid_gap": null,
       "grid_row": null,
       "grid_template_areas": null,
       "grid_template_columns": null,
       "grid_template_rows": null,
       "height": null,
       "justify_content": null,
       "justify_items": null,
       "left": null,
       "margin": null,
       "max_height": null,
       "max_width": null,
       "min_height": null,
       "min_width": null,
       "object_fit": null,
       "object_position": null,
       "order": null,
       "overflow": null,
       "overflow_x": null,
       "overflow_y": null,
       "padding": null,
       "right": null,
       "top": null,
       "visibility": null,
       "width": null
      }
     },
     "9a00036e4fd04a488f73260f51555076": {
      "model_module": "@jupyter-widgets/controls",
      "model_module_version": "1.5.0",
      "model_name": "DescriptionStyleModel",
      "state": {
       "_model_module": "@jupyter-widgets/controls",
       "_model_module_version": "1.5.0",
       "_model_name": "DescriptionStyleModel",
       "_view_count": null,
       "_view_module": "@jupyter-widgets/base",
       "_view_module_version": "1.2.0",
       "_view_name": "StyleView",
       "description_width": ""
      }
     },
     "9da6679bf208469ab37b7e0f419548a9": {
      "model_module": "@jupyter-widgets/controls",
      "model_module_version": "1.5.0",
      "model_name": "HTMLModel",
      "state": {
       "_dom_classes": [],
       "_model_module": "@jupyter-widgets/controls",
       "_model_module_version": "1.5.0",
       "_model_name": "HTMLModel",
       "_view_count": null,
       "_view_module": "@jupyter-widgets/controls",
       "_view_module_version": "1.5.0",
       "_view_name": "HTMLView",
       "description": "",
       "description_tooltip": null,
       "layout": "IPY_MODEL_f21b2255b4214bd29409ba60beb6ddce",
       "placeholder": "​",
       "style": "IPY_MODEL_7b919dcb6efb49bebccc6a8aca29702b",
       "value": " 48.0/48.0 [00:00&lt;00:00, 4.22kB/s]"
      }
     },
     "9f6cb661a6b9475d989d86d2e6e62d71": {
      "model_module": "@jupyter-widgets/controls",
      "model_module_version": "1.5.0",
      "model_name": "DescriptionStyleModel",
      "state": {
       "_model_module": "@jupyter-widgets/controls",
       "_model_module_version": "1.5.0",
       "_model_name": "DescriptionStyleModel",
       "_view_count": null,
       "_view_module": "@jupyter-widgets/base",
       "_view_module_version": "1.2.0",
       "_view_name": "StyleView",
       "description_width": ""
      }
     },
     "a4d60294aa554f79abe9616829873686": {
      "model_module": "@jupyter-widgets/controls",
      "model_module_version": "1.5.0",
      "model_name": "HBoxModel",
      "state": {
       "_dom_classes": [],
       "_model_module": "@jupyter-widgets/controls",
       "_model_module_version": "1.5.0",
       "_model_name": "HBoxModel",
       "_view_count": null,
       "_view_module": "@jupyter-widgets/controls",
       "_view_module_version": "1.5.0",
       "_view_name": "HBoxView",
       "box_style": "",
       "children": [
        "IPY_MODEL_593dd69958874d029877dd9a8f95134e",
        "IPY_MODEL_8d9fcb8889f94246bf788dc02eadb2e0",
        "IPY_MODEL_ccd28c93a4214a1e9cd30d4a9e7660d4"
       ],
       "layout": "IPY_MODEL_95b3c892c91c478183a188c709da727e"
      }
     },
     "a8697db6691a4bdba1863e911709c0f9": {
      "model_module": "@jupyter-widgets/controls",
      "model_module_version": "1.5.0",
      "model_name": "FloatProgressModel",
      "state": {
       "_dom_classes": [],
       "_model_module": "@jupyter-widgets/controls",
       "_model_module_version": "1.5.0",
       "_model_name": "FloatProgressModel",
       "_view_count": null,
       "_view_module": "@jupyter-widgets/controls",
       "_view_module_version": "1.5.0",
       "_view_name": "ProgressView",
       "bar_style": "success",
       "description": "",
       "description_tooltip": null,
       "layout": "IPY_MODEL_aeff4b93f9134eb5a55ea6263e66bec6",
       "max": 267954768.0,
       "min": 0.0,
       "orientation": "horizontal",
       "style": "IPY_MODEL_e614e7706bb24fb09bd95b77c36cc8fa",
       "value": 267954768.0
      }
     },
     "aeff4b93f9134eb5a55ea6263e66bec6": {
      "model_module": "@jupyter-widgets/base",
      "model_module_version": "1.2.0",
      "model_name": "LayoutModel",
      "state": {
       "_model_module": "@jupyter-widgets/base",
       "_model_module_version": "1.2.0",
       "_model_name": "LayoutModel",
       "_view_count": null,
       "_view_module": "@jupyter-widgets/base",
       "_view_module_version": "1.2.0",
       "_view_name": "LayoutView",
       "align_content": null,
       "align_items": null,
       "align_self": null,
       "border": null,
       "bottom": null,
       "display": null,
       "flex": null,
       "flex_flow": null,
       "grid_area": null,
       "grid_auto_columns": null,
       "grid_auto_flow": null,
       "grid_auto_rows": null,
       "grid_column": null,
       "grid_gap": null,
       "grid_row": null,
       "grid_template_areas": null,
       "grid_template_columns": null,
       "grid_template_rows": null,
       "height": null,
       "justify_content": null,
       "justify_items": null,
       "left": null,
       "margin": null,
       "max_height": null,
       "max_width": null,
       "min_height": null,
       "min_width": null,
       "object_fit": null,
       "object_position": null,
       "order": null,
       "overflow": null,
       "overflow_x": null,
       "overflow_y": null,
       "padding": null,
       "right": null,
       "top": null,
       "visibility": null,
       "width": null
      }
     },
     "af87c538b9cc4e98811c6f24a0c6af26": {
      "model_module": "@jupyter-widgets/controls",
      "model_module_version": "1.5.0",
      "model_name": "DescriptionStyleModel",
      "state": {
       "_model_module": "@jupyter-widgets/controls",
       "_model_module_version": "1.5.0",
       "_model_name": "DescriptionStyleModel",
       "_view_count": null,
       "_view_module": "@jupyter-widgets/base",
       "_view_module_version": "1.2.0",
       "_view_name": "StyleView",
       "description_width": ""
      }
     },
     "afa2903ce5214cde924df0c42f78ab48": {
      "model_module": "@jupyter-widgets/controls",
      "model_module_version": "1.5.0",
      "model_name": "DescriptionStyleModel",
      "state": {
       "_model_module": "@jupyter-widgets/controls",
       "_model_module_version": "1.5.0",
       "_model_name": "DescriptionStyleModel",
       "_view_count": null,
       "_view_module": "@jupyter-widgets/base",
       "_view_module_version": "1.2.0",
       "_view_name": "StyleView",
       "description_width": ""
      }
     },
     "b442d1fde67e42489e0d7eb411671623": {
      "model_module": "@jupyter-widgets/controls",
      "model_module_version": "1.5.0",
      "model_name": "ProgressStyleModel",
      "state": {
       "_model_module": "@jupyter-widgets/controls",
       "_model_module_version": "1.5.0",
       "_model_name": "ProgressStyleModel",
       "_view_count": null,
       "_view_module": "@jupyter-widgets/base",
       "_view_module_version": "1.2.0",
       "_view_name": "StyleView",
       "bar_color": null,
       "description_width": ""
      }
     },
     "b65e4641c2bf468e830746d2613fab72": {
      "model_module": "@jupyter-widgets/base",
      "model_module_version": "1.2.0",
      "model_name": "LayoutModel",
      "state": {
       "_model_module": "@jupyter-widgets/base",
       "_model_module_version": "1.2.0",
       "_model_name": "LayoutModel",
       "_view_count": null,
       "_view_module": "@jupyter-widgets/base",
       "_view_module_version": "1.2.0",
       "_view_name": "LayoutView",
       "align_content": null,
       "align_items": null,
       "align_self": null,
       "border": null,
       "bottom": null,
       "display": null,
       "flex": null,
       "flex_flow": null,
       "grid_area": null,
       "grid_auto_columns": null,
       "grid_auto_flow": null,
       "grid_auto_rows": null,
       "grid_column": null,
       "grid_gap": null,
       "grid_row": null,
       "grid_template_areas": null,
       "grid_template_columns": null,
       "grid_template_rows": null,
       "height": null,
       "justify_content": null,
       "justify_items": null,
       "left": null,
       "margin": null,
       "max_height": null,
       "max_width": null,
       "min_height": null,
       "min_width": null,
       "object_fit": null,
       "object_position": null,
       "order": null,
       "overflow": null,
       "overflow_x": null,
       "overflow_y": null,
       "padding": null,
       "right": null,
       "top": null,
       "visibility": null,
       "width": null
      }
     },
     "b71005eb3ba24b64b29271333b57a7a5": {
      "model_module": "@jupyter-widgets/controls",
      "model_module_version": "1.5.0",
      "model_name": "HTMLModel",
      "state": {
       "_dom_classes": [],
       "_model_module": "@jupyter-widgets/controls",
       "_model_module_version": "1.5.0",
       "_model_name": "HTMLModel",
       "_view_count": null,
       "_view_module": "@jupyter-widgets/controls",
       "_view_module_version": "1.5.0",
       "_view_name": "HTMLView",
       "description": "",
       "description_tooltip": null,
       "layout": "IPY_MODEL_0a3e1ad7349d4a9288369bde43be05b3",
       "placeholder": "​",
       "style": "IPY_MODEL_9a00036e4fd04a488f73260f51555076",
       "value": " 268M/268M [00:06&lt;00:00, 42.6MB/s]"
      }
     },
     "c5a30795d6874cb18ec573854788c6a2": {
      "model_module": "@jupyter-widgets/base",
      "model_module_version": "1.2.0",
      "model_name": "LayoutModel",
      "state": {
       "_model_module": "@jupyter-widgets/base",
       "_model_module_version": "1.2.0",
       "_model_name": "LayoutModel",
       "_view_count": null,
       "_view_module": "@jupyter-widgets/base",
       "_view_module_version": "1.2.0",
       "_view_name": "LayoutView",
       "align_content": null,
       "align_items": null,
       "align_self": null,
       "border": null,
       "bottom": null,
       "display": null,
       "flex": null,
       "flex_flow": null,
       "grid_area": null,
       "grid_auto_columns": null,
       "grid_auto_flow": null,
       "grid_auto_rows": null,
       "grid_column": null,
       "grid_gap": null,
       "grid_row": null,
       "grid_template_areas": null,
       "grid_template_columns": null,
       "grid_template_rows": null,
       "height": null,
       "justify_content": null,
       "justify_items": null,
       "left": null,
       "margin": null,
       "max_height": null,
       "max_width": null,
       "min_height": null,
       "min_width": null,
       "object_fit": null,
       "object_position": null,
       "order": null,
       "overflow": null,
       "overflow_x": null,
       "overflow_y": null,
       "padding": null,
       "right": null,
       "top": null,
       "visibility": null,
       "width": null
      }
     },
     "ccd28c93a4214a1e9cd30d4a9e7660d4": {
      "model_module": "@jupyter-widgets/controls",
      "model_module_version": "1.5.0",
      "model_name": "HTMLModel",
      "state": {
       "_dom_classes": [],
       "_model_module": "@jupyter-widgets/controls",
       "_model_module_version": "1.5.0",
       "_model_name": "HTMLModel",
       "_view_count": null,
       "_view_module": "@jupyter-widgets/controls",
       "_view_module_version": "1.5.0",
       "_view_name": "HTMLView",
       "description": "",
       "description_tooltip": null,
       "layout": "IPY_MODEL_9990ea91d42f46898b954b5be7f02d50",
       "placeholder": "​",
       "style": "IPY_MODEL_afa2903ce5214cde924df0c42f78ab48",
       "value": " 466k/466k [00:00&lt;00:00, 793kB/s]"
      }
     },
     "d01a60596cc34a29a60af579ce55ef18": {
      "model_module": "@jupyter-widgets/base",
      "model_module_version": "1.2.0",
      "model_name": "LayoutModel",
      "state": {
       "_model_module": "@jupyter-widgets/base",
       "_model_module_version": "1.2.0",
       "_model_name": "LayoutModel",
       "_view_count": null,
       "_view_module": "@jupyter-widgets/base",
       "_view_module_version": "1.2.0",
       "_view_name": "LayoutView",
       "align_content": null,
       "align_items": null,
       "align_self": null,
       "border": null,
       "bottom": null,
       "display": null,
       "flex": null,
       "flex_flow": null,
       "grid_area": null,
       "grid_auto_columns": null,
       "grid_auto_flow": null,
       "grid_auto_rows": null,
       "grid_column": null,
       "grid_gap": null,
       "grid_row": null,
       "grid_template_areas": null,
       "grid_template_columns": null,
       "grid_template_rows": null,
       "height": null,
       "justify_content": null,
       "justify_items": null,
       "left": null,
       "margin": null,
       "max_height": null,
       "max_width": null,
       "min_height": null,
       "min_width": null,
       "object_fit": null,
       "object_position": null,
       "order": null,
       "overflow": null,
       "overflow_x": null,
       "overflow_y": null,
       "padding": null,
       "right": null,
       "top": null,
       "visibility": null,
       "width": null
      }
     },
     "d39ca1840bc94d91b2f4ac7a67030c22": {
      "model_module": "@jupyter-widgets/controls",
      "model_module_version": "1.5.0",
      "model_name": "ProgressStyleModel",
      "state": {
       "_model_module": "@jupyter-widgets/controls",
       "_model_module_version": "1.5.0",
       "_model_name": "ProgressStyleModel",
       "_view_count": null,
       "_view_module": "@jupyter-widgets/base",
       "_view_module_version": "1.2.0",
       "_view_name": "StyleView",
       "bar_color": null,
       "description_width": ""
      }
     },
     "db86301cc3324476bfb6da43b40833d5": {
      "model_module": "@jupyter-widgets/controls",
      "model_module_version": "1.5.0",
      "model_name": "HTMLModel",
      "state": {
       "_dom_classes": [],
       "_model_module": "@jupyter-widgets/controls",
       "_model_module_version": "1.5.0",
       "_model_name": "HTMLModel",
       "_view_count": null,
       "_view_module": "@jupyter-widgets/controls",
       "_view_module_version": "1.5.0",
       "_view_name": "HTMLView",
       "description": "",
       "description_tooltip": null,
       "layout": "IPY_MODEL_01f140fa399b4dbbb665437fdd0b97de",
       "placeholder": "​",
       "style": "IPY_MODEL_615cfdc8dd804d66b6cbb8624f5c98c5",
       "value": "tokenizer_config.json: 100%"
      }
     },
     "dbe0bcfe9dec40dbb9fdde03ef44d398": {
      "model_module": "@jupyter-widgets/controls",
      "model_module_version": "1.5.0",
      "model_name": "ProgressStyleModel",
      "state": {
       "_model_module": "@jupyter-widgets/controls",
       "_model_module_version": "1.5.0",
       "_model_name": "ProgressStyleModel",
       "_view_count": null,
       "_view_module": "@jupyter-widgets/base",
       "_view_module_version": "1.2.0",
       "_view_name": "StyleView",
       "bar_color": null,
       "description_width": ""
      }
     },
     "e614e7706bb24fb09bd95b77c36cc8fa": {
      "model_module": "@jupyter-widgets/controls",
      "model_module_version": "1.5.0",
      "model_name": "ProgressStyleModel",
      "state": {
       "_model_module": "@jupyter-widgets/controls",
       "_model_module_version": "1.5.0",
       "_model_name": "ProgressStyleModel",
       "_view_count": null,
       "_view_module": "@jupyter-widgets/base",
       "_view_module_version": "1.2.0",
       "_view_name": "StyleView",
       "bar_color": null,
       "description_width": ""
      }
     },
     "e8c8cfd9c692400694f7e352389ea0b6": {
      "model_module": "@jupyter-widgets/base",
      "model_module_version": "1.2.0",
      "model_name": "LayoutModel",
      "state": {
       "_model_module": "@jupyter-widgets/base",
       "_model_module_version": "1.2.0",
       "_model_name": "LayoutModel",
       "_view_count": null,
       "_view_module": "@jupyter-widgets/base",
       "_view_module_version": "1.2.0",
       "_view_name": "LayoutView",
       "align_content": null,
       "align_items": null,
       "align_self": null,
       "border": null,
       "bottom": null,
       "display": null,
       "flex": null,
       "flex_flow": null,
       "grid_area": null,
       "grid_auto_columns": null,
       "grid_auto_flow": null,
       "grid_auto_rows": null,
       "grid_column": null,
       "grid_gap": null,
       "grid_row": null,
       "grid_template_areas": null,
       "grid_template_columns": null,
       "grid_template_rows": null,
       "height": null,
       "justify_content": null,
       "justify_items": null,
       "left": null,
       "margin": null,
       "max_height": null,
       "max_width": null,
       "min_height": null,
       "min_width": null,
       "object_fit": null,
       "object_position": null,
       "order": null,
       "overflow": null,
       "overflow_x": null,
       "overflow_y": null,
       "padding": null,
       "right": null,
       "top": null,
       "visibility": null,
       "width": null
      }
     },
     "ecbc0c1b4a7b4ac7b593140448216e8e": {
      "model_module": "@jupyter-widgets/base",
      "model_module_version": "1.2.0",
      "model_name": "LayoutModel",
      "state": {
       "_model_module": "@jupyter-widgets/base",
       "_model_module_version": "1.2.0",
       "_model_name": "LayoutModel",
       "_view_count": null,
       "_view_module": "@jupyter-widgets/base",
       "_view_module_version": "1.2.0",
       "_view_name": "LayoutView",
       "align_content": null,
       "align_items": null,
       "align_self": null,
       "border": null,
       "bottom": null,
       "display": null,
       "flex": null,
       "flex_flow": null,
       "grid_area": null,
       "grid_auto_columns": null,
       "grid_auto_flow": null,
       "grid_auto_rows": null,
       "grid_column": null,
       "grid_gap": null,
       "grid_row": null,
       "grid_template_areas": null,
       "grid_template_columns": null,
       "grid_template_rows": null,
       "height": null,
       "justify_content": null,
       "justify_items": null,
       "left": null,
       "margin": null,
       "max_height": null,
       "max_width": null,
       "min_height": null,
       "min_width": null,
       "object_fit": null,
       "object_position": null,
       "order": null,
       "overflow": null,
       "overflow_x": null,
       "overflow_y": null,
       "padding": null,
       "right": null,
       "top": null,
       "visibility": null,
       "width": null
      }
     },
     "efb905cdcbff4ee582650364f37870b6": {
      "model_module": "@jupyter-widgets/controls",
      "model_module_version": "1.5.0",
      "model_name": "HBoxModel",
      "state": {
       "_dom_classes": [],
       "_model_module": "@jupyter-widgets/controls",
       "_model_module_version": "1.5.0",
       "_model_name": "HBoxModel",
       "_view_count": null,
       "_view_module": "@jupyter-widgets/controls",
       "_view_module_version": "1.5.0",
       "_view_name": "HBoxView",
       "box_style": "",
       "children": [
        "IPY_MODEL_f1e4d873c9c64db797586d3a97455963",
        "IPY_MODEL_42528a18ea404aa59089d506341d7c95",
        "IPY_MODEL_09702fb9ba5843ceb13948ece459e5f3"
       ],
       "layout": "IPY_MODEL_4d4c6039ab2748859eb697736b7ba994"
      }
     },
     "f1e4d873c9c64db797586d3a97455963": {
      "model_module": "@jupyter-widgets/controls",
      "model_module_version": "1.5.0",
      "model_name": "HTMLModel",
      "state": {
       "_dom_classes": [],
       "_model_module": "@jupyter-widgets/controls",
       "_model_module_version": "1.5.0",
       "_model_name": "HTMLModel",
       "_view_count": null,
       "_view_module": "@jupyter-widgets/controls",
       "_view_module_version": "1.5.0",
       "_view_name": "HTMLView",
       "description": "",
       "description_tooltip": null,
       "layout": "IPY_MODEL_d01a60596cc34a29a60af579ce55ef18",
       "placeholder": "​",
       "style": "IPY_MODEL_9f6cb661a6b9475d989d86d2e6e62d71",
       "value": "config.json: 100%"
      }
     },
     "f21b2255b4214bd29409ba60beb6ddce": {
      "model_module": "@jupyter-widgets/base",
      "model_module_version": "1.2.0",
      "model_name": "LayoutModel",
      "state": {
       "_model_module": "@jupyter-widgets/base",
       "_model_module_version": "1.2.0",
       "_model_name": "LayoutModel",
       "_view_count": null,
       "_view_module": "@jupyter-widgets/base",
       "_view_module_version": "1.2.0",
       "_view_name": "LayoutView",
       "align_content": null,
       "align_items": null,
       "align_self": null,
       "border": null,
       "bottom": null,
       "display": null,
       "flex": null,
       "flex_flow": null,
       "grid_area": null,
       "grid_auto_columns": null,
       "grid_auto_flow": null,
       "grid_auto_rows": null,
       "grid_column": null,
       "grid_gap": null,
       "grid_row": null,
       "grid_template_areas": null,
       "grid_template_columns": null,
       "grid_template_rows": null,
       "height": null,
       "justify_content": null,
       "justify_items": null,
       "left": null,
       "margin": null,
       "max_height": null,
       "max_width": null,
       "min_height": null,
       "min_width": null,
       "object_fit": null,
       "object_position": null,
       "order": null,
       "overflow": null,
       "overflow_x": null,
       "overflow_y": null,
       "padding": null,
       "right": null,
       "top": null,
       "visibility": null,
       "width": null
      }
     },
     "fe197f6a22054f539661aa3584449663": {
      "model_module": "@jupyter-widgets/controls",
      "model_module_version": "1.5.0",
      "model_name": "DescriptionStyleModel",
      "state": {
       "_model_module": "@jupyter-widgets/controls",
       "_model_module_version": "1.5.0",
       "_model_name": "DescriptionStyleModel",
       "_view_count": null,
       "_view_module": "@jupyter-widgets/base",
       "_view_module_version": "1.2.0",
       "_view_name": "StyleView",
       "description_width": ""
      }
     }
    },
    "version_major": 2,
    "version_minor": 0
   }
  }
 },
 "nbformat": 4,
 "nbformat_minor": 5
}
